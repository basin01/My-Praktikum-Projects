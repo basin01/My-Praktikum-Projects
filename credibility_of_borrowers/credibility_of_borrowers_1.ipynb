{
 "cells": [
  {
   "cell_type": "markdown",
   "metadata": {},
   "source": [
    "# Исследование надёжности заёмщиков\n",
    "\n",
    "\n",
    "# Цель:\n",
    "\n",
    "Основная цель проекта это разобраться, влияет ли семейное положение и количество детей клиента на факт погашения кредита в срок.\n",
    "\n",
    "# Задачи:\n",
    "\n",
    "- определить и заполнить пропущенные значения;\n",
    "\n",
    "- заменить вещественный тип данных на целочисленный;\n",
    "\n",
    "- удалить дубликаты;\n",
    "\n",
    "- выделить леммы в значениях столбца с целями получения кредита;\n",
    "\n",
    "- категоризовать данные.\n",
    "\n",
    "\n",
    "# Аббревиатуры:\n",
    "\n",
    "## Датасет *data.csv*:\n",
    "\n",
    "- children — количество детей в семье\n",
    "\n",
    "- days_employed — общий трудовой стаж в днях\n",
    "\n",
    "- dob_years — возраст клиента в годах\n",
    "\n",
    "- education — уровень образования клиента\n",
    "\n",
    "- education_id — идентификатор уровня образования\n",
    "\n",
    "- family_status — семейное положение\n",
    "\n",
    "- family_status_id — идентификатор семейного положения\n",
    "\n",
    "- gender — пол клиента\n",
    "\n",
    "- income_type — тип занятости\n",
    "\n",
    "- debt — имел ли задолженность по возврату кредитов\n",
    "\n",
    "- total_income — ежемесячный доход\n",
    "\n",
    "- purpose — цель получения кредита"
   ]
  },
  {
   "cell_type": "markdown",
   "metadata": {},
   "source": [
    "### Шаг 1. Откройте файл с данными и изучите общую информацию. "
   ]
  },
  {
   "cell_type": "code",
   "execution_count": 1,
   "metadata": {},
   "outputs": [
    {
     "data": {
      "text/html": [
       "<div>\n",
       "<style scoped>\n",
       "    .dataframe tbody tr th:only-of-type {\n",
       "        vertical-align: middle;\n",
       "    }\n",
       "\n",
       "    .dataframe tbody tr th {\n",
       "        vertical-align: top;\n",
       "    }\n",
       "\n",
       "    .dataframe thead th {\n",
       "        text-align: right;\n",
       "    }\n",
       "</style>\n",
       "<table border=\"1\" class=\"dataframe\">\n",
       "  <thead>\n",
       "    <tr style=\"text-align: right;\">\n",
       "      <th></th>\n",
       "      <th>children</th>\n",
       "      <th>days_employed</th>\n",
       "      <th>dob_years</th>\n",
       "      <th>education</th>\n",
       "      <th>education_id</th>\n",
       "      <th>family_status</th>\n",
       "      <th>family_status_id</th>\n",
       "      <th>gender</th>\n",
       "      <th>income_type</th>\n",
       "      <th>debt</th>\n",
       "      <th>total_income</th>\n",
       "      <th>purpose</th>\n",
       "    </tr>\n",
       "  </thead>\n",
       "  <tbody>\n",
       "    <tr>\n",
       "      <td>0</td>\n",
       "      <td>1</td>\n",
       "      <td>-8437.673028</td>\n",
       "      <td>42</td>\n",
       "      <td>высшее</td>\n",
       "      <td>0</td>\n",
       "      <td>женат / замужем</td>\n",
       "      <td>0</td>\n",
       "      <td>F</td>\n",
       "      <td>сотрудник</td>\n",
       "      <td>0</td>\n",
       "      <td>253875.639453</td>\n",
       "      <td>покупка жилья</td>\n",
       "    </tr>\n",
       "    <tr>\n",
       "      <td>1</td>\n",
       "      <td>1</td>\n",
       "      <td>-4024.803754</td>\n",
       "      <td>36</td>\n",
       "      <td>среднее</td>\n",
       "      <td>1</td>\n",
       "      <td>женат / замужем</td>\n",
       "      <td>0</td>\n",
       "      <td>F</td>\n",
       "      <td>сотрудник</td>\n",
       "      <td>0</td>\n",
       "      <td>112080.014102</td>\n",
       "      <td>приобретение автомобиля</td>\n",
       "    </tr>\n",
       "    <tr>\n",
       "      <td>2</td>\n",
       "      <td>0</td>\n",
       "      <td>-5623.422610</td>\n",
       "      <td>33</td>\n",
       "      <td>Среднее</td>\n",
       "      <td>1</td>\n",
       "      <td>женат / замужем</td>\n",
       "      <td>0</td>\n",
       "      <td>M</td>\n",
       "      <td>сотрудник</td>\n",
       "      <td>0</td>\n",
       "      <td>145885.952297</td>\n",
       "      <td>покупка жилья</td>\n",
       "    </tr>\n",
       "    <tr>\n",
       "      <td>3</td>\n",
       "      <td>3</td>\n",
       "      <td>-4124.747207</td>\n",
       "      <td>32</td>\n",
       "      <td>среднее</td>\n",
       "      <td>1</td>\n",
       "      <td>женат / замужем</td>\n",
       "      <td>0</td>\n",
       "      <td>M</td>\n",
       "      <td>сотрудник</td>\n",
       "      <td>0</td>\n",
       "      <td>267628.550329</td>\n",
       "      <td>дополнительное образование</td>\n",
       "    </tr>\n",
       "    <tr>\n",
       "      <td>4</td>\n",
       "      <td>0</td>\n",
       "      <td>340266.072047</td>\n",
       "      <td>53</td>\n",
       "      <td>среднее</td>\n",
       "      <td>1</td>\n",
       "      <td>гражданский брак</td>\n",
       "      <td>1</td>\n",
       "      <td>F</td>\n",
       "      <td>пенсионер</td>\n",
       "      <td>0</td>\n",
       "      <td>158616.077870</td>\n",
       "      <td>сыграть свадьбу</td>\n",
       "    </tr>\n",
       "  </tbody>\n",
       "</table>\n",
       "</div>"
      ],
      "text/plain": [
       "   children  days_employed  dob_years education  education_id  \\\n",
       "0         1   -8437.673028         42    высшее             0   \n",
       "1         1   -4024.803754         36   среднее             1   \n",
       "2         0   -5623.422610         33   Среднее             1   \n",
       "3         3   -4124.747207         32   среднее             1   \n",
       "4         0  340266.072047         53   среднее             1   \n",
       "\n",
       "      family_status  family_status_id gender income_type  debt   total_income  \\\n",
       "0   женат / замужем                 0      F   сотрудник     0  253875.639453   \n",
       "1   женат / замужем                 0      F   сотрудник     0  112080.014102   \n",
       "2   женат / замужем                 0      M   сотрудник     0  145885.952297   \n",
       "3   женат / замужем                 0      M   сотрудник     0  267628.550329   \n",
       "4  гражданский брак                 1      F   пенсионер     0  158616.077870   \n",
       "\n",
       "                      purpose  \n",
       "0               покупка жилья  \n",
       "1     приобретение автомобиля  \n",
       "2               покупка жилья  \n",
       "3  дополнительное образование  \n",
       "4             сыграть свадьбу  "
      ]
     },
     "execution_count": 1,
     "metadata": {},
     "output_type": "execute_result"
    }
   ],
   "source": [
    "import pandas as pd\n",
    "bank = pd.read_csv(\"/datasets/data.csv\")\n",
    "bank.head()"
   ]
  },
  {
   "cell_type": "markdown",
   "metadata": {},
   "source": [
    "### Вывод"
   ]
  },
  {
   "cell_type": "markdown",
   "metadata": {},
   "source": [
    "При первом анализе, сразу же можно увидеть, что в столбце family_status используются разные наименование или \"женат/замужем\" или \"гражданский брак\". Такая же проблема часто встречается проблема в столбце purpuse. Еще могут возникнуть проблемы в столбце education, так как одни и те же слова начинаются или с маленькой или с большой буквы. Вообщем, таблицу сложно анализировать просто смотря на нее, нужно убрать все недочеты и постарать сделать таблицу более удобной для изучения."
   ]
  },
  {
   "cell_type": "markdown",
   "metadata": {},
   "source": [
    "### Шаг 2. Предобработка данных"
   ]
  },
  {
   "cell_type": "markdown",
   "metadata": {},
   "source": [
    "### Обработка пропусков"
   ]
  },
  {
   "cell_type": "code",
   "execution_count": 2,
   "metadata": {},
   "outputs": [
    {
     "name": "stdout",
     "output_type": "stream",
     "text": [
      "2174\n",
      "0\n",
      "0\n",
      "2174\n"
     ]
    }
   ],
   "source": [
    "print(bank[\"days_employed\"].isnull().sum())\n",
    "print(bank[\"dob_years\"].isnull().sum())\n",
    "print(bank[\"education_id\"].isnull().sum())\n",
    "print(bank[\"total_income\"].isnull().sum())\n",
    "bank.dropna(inplace=True)\n",
    "\n",
    "\n"
   ]
  },
  {
   "cell_type": "code",
   "execution_count": 3,
   "metadata": {},
   "outputs": [
    {
     "data": {
      "text/plain": [
       "array(['F', 'M', 'XNA'], dtype=object)"
      ]
     },
     "execution_count": 3,
     "metadata": {},
     "output_type": "execute_result"
    }
   ],
   "source": [
    "bank[\"gender\"].unique()\n",
    "\n"
   ]
  },
  {
   "cell_type": "markdown",
   "metadata": {},
   "source": [
    "### Вывод"
   ]
  },
  {
   "cell_type": "markdown",
   "metadata": {},
   "source": [
    "После анализа всех столбцов, я обнаружил пропуски пропуски в столбцах \"days_employed\" и \"total_income\". Интересно, что оба пропуска появлялись в одной и той же строке. Первая мысль у меня была, заполнить пропуски средними числами, но тут подключались другие столбцы и показывали, что люди очень разные, и высчитать среднее для них всех будет не точно и проблемотично. Я решил от них избавиться, так как в строках где встречаются пропуски имеют мало общего между друг другом, и на статистику не сильно повлияют. \n",
    "Думаю, что эти пропуски появились не из за какой то ошибки, а видимо в каком то отделении систематично не учитывались эти параметры, так как как пропуски везде в одних и тех же строках."
   ]
  },
  {
   "cell_type": "markdown",
   "metadata": {},
   "source": [
    "### Замена типа данных"
   ]
  },
  {
   "cell_type": "code",
   "execution_count": 4,
   "metadata": {},
   "outputs": [
    {
     "name": "stdout",
     "output_type": "stream",
     "text": [
      "<class 'pandas.core.frame.DataFrame'>\n",
      "Int64Index: 19351 entries, 0 to 21524\n",
      "Data columns (total 12 columns):\n",
      "children            19351 non-null int64\n",
      "days_employed       19351 non-null float64\n",
      "dob_years           19351 non-null int64\n",
      "education           19351 non-null object\n",
      "education_id        19351 non-null int64\n",
      "family_status       19351 non-null object\n",
      "family_status_id    19351 non-null int64\n",
      "gender              19351 non-null object\n",
      "income_type         19351 non-null object\n",
      "debt                19351 non-null int64\n",
      "total_income        19351 non-null float64\n",
      "purpose             19351 non-null object\n",
      "dtypes: float64(2), int64(5), object(5)\n",
      "memory usage: 1.9+ MB\n",
      "None\n"
     ]
    }
   ],
   "source": [
    "print(bank.info())"
   ]
  },
  {
   "cell_type": "code",
   "execution_count": 5,
   "metadata": {},
   "outputs": [],
   "source": [
    "bank[\"days_employed\"]=bank[\"days_employed\"].astype(\"int\")\n",
    "bank[\"total_income\"]=bank[\"total_income\"].astype(\"int\")"
   ]
  },
  {
   "cell_type": "code",
   "execution_count": 6,
   "metadata": {},
   "outputs": [
    {
     "name": "stdout",
     "output_type": "stream",
     "text": [
      "<class 'pandas.core.frame.DataFrame'>\n",
      "Int64Index: 19351 entries, 0 to 21524\n",
      "Data columns (total 12 columns):\n",
      "children            19351 non-null int64\n",
      "days_employed       19351 non-null int64\n",
      "dob_years           19351 non-null int64\n",
      "education           19351 non-null object\n",
      "education_id        19351 non-null int64\n",
      "family_status       19351 non-null object\n",
      "family_status_id    19351 non-null int64\n",
      "gender              19351 non-null object\n",
      "income_type         19351 non-null object\n",
      "debt                19351 non-null int64\n",
      "total_income        19351 non-null int64\n",
      "purpose             19351 non-null object\n",
      "dtypes: int64(7), object(5)\n",
      "memory usage: 1.9+ MB\n",
      "None\n"
     ]
    }
   ],
   "source": [
    "print(bank.info())"
   ]
  },
  {
   "cell_type": "markdown",
   "metadata": {},
   "source": [
    "### Вывод"
   ]
  },
  {
   "cell_type": "markdown",
   "metadata": {},
   "source": [
    "Что бы  точно убедиться какие из столбцов являются вещественными типами данных, я вызвал функцию info(). Далее я использовал функцию astype(), что бы заменить тип данных."
   ]
  },
  {
   "cell_type": "markdown",
   "metadata": {},
   "source": [
    "### Обработка дубликатов"
   ]
  },
  {
   "cell_type": "code",
   "execution_count": 7,
   "metadata": {},
   "outputs": [
    {
     "name": "stdout",
     "output_type": "stream",
     "text": [
      "['высшее' 'среднее' 'неоконченное высшее' 'начальное' 'ученая степень']\n",
      "['сотрудник' 'пенсионер' 'компаньон' 'госслужащий' 'безработный' 'студент'\n",
      " 'предприниматель' 'в декрете']\n"
     ]
    },
    {
     "data": {
      "text/plain": [
       "array(['женат / замужем', 'вдовец / вдова', 'в разводе',\n",
       "       'Не женат / не замужем'], dtype=object)"
      ]
     },
     "execution_count": 7,
     "metadata": {},
     "output_type": "execute_result"
    }
   ],
   "source": [
    "bank[\"education\"] = bank[\"education\"].str.lower()\n",
    "print(bank[\"education\"].unique())\n",
    "\n",
    "print(bank[\"income_type\"].unique())\n",
    "bank[\"children\"] = bank[\"children\"].replace(-1, 1)\n",
    "bank[\"children\"] = bank[\"children\"].replace(20, 2)\n",
    "bank[\"children\"].unique()\n",
    "bank[\"family_status\"] = bank[\"family_status\"].replace(\"гражданский брак\", \"женат / замужем\")\n",
    "bank[\"family_status\"].unique()\n"
   ]
  },
  {
   "cell_type": "markdown",
   "metadata": {},
   "source": [
    "### Вывод"
   ]
  },
  {
   "cell_type": "markdown",
   "metadata": {},
   "source": [
    "Проанализировав столбцы, я нашел дубликаты разные их типы. Самые очеведные оказались в столбце \"education\", где одно и тоже слово могло быть написано или с заглавной буквой, или все были заглавными буквами, или все маленькие. Я решил используя функцию string.lower(), сделать все слова в столбце используя только маленькие быквы. Я дпредпологаю, что они появились, так как в ручную вбивались эти данные, и вписывали как хотели. "
   ]
  },
  {
   "cell_type": "markdown",
   "metadata": {},
   "source": [
    "### Лемматизация"
   ]
  },
  {
   "cell_type": "code",
   "execution_count": 8,
   "metadata": {},
   "outputs": [
    {
     "data": {
      "text/plain": [
       "array(['покупка жилья', 'приобретение автомобиля',\n",
       "       'дополнительное образование', 'сыграть свадьбу',\n",
       "       'операции с жильем', 'образование', 'на проведение свадьбы',\n",
       "       'покупка жилья для семьи', 'покупка недвижимости',\n",
       "       'покупка коммерческой недвижимости', 'покупка жилой недвижимости',\n",
       "       'строительство собственной недвижимости', 'недвижимость',\n",
       "       'строительство недвижимости', 'на покупку подержанного автомобиля',\n",
       "       'на покупку своего автомобиля',\n",
       "       'операции с коммерческой недвижимостью', 'жилье',\n",
       "       'операции со своей недвижимостью', 'автомобили',\n",
       "       'заняться образованием', 'получение образования',\n",
       "       'сделка с подержанным автомобилем', 'автомобиль', 'свадьба',\n",
       "       'получение дополнительного образования', 'покупка своего жилья',\n",
       "       'операции с недвижимостью', 'получение высшего образования',\n",
       "       'свой автомобиль', 'сделка с автомобилем',\n",
       "       'профильное образование', 'высшее образование',\n",
       "       'покупка жилья для сдачи', 'на покупку автомобиля',\n",
       "       'строительство жилой недвижимости', 'ремонт жилью',\n",
       "       'заняться высшим образованием'], dtype=object)"
      ]
     },
     "execution_count": 8,
     "metadata": {},
     "output_type": "execute_result"
    }
   ],
   "source": [
    "bank[\"purpose\"].unique()"
   ]
  },
  {
   "cell_type": "code",
   "execution_count": 9,
   "metadata": {},
   "outputs": [
    {
     "data": {
      "text/html": [
       "<div>\n",
       "<style scoped>\n",
       "    .dataframe tbody tr th:only-of-type {\n",
       "        vertical-align: middle;\n",
       "    }\n",
       "\n",
       "    .dataframe tbody tr th {\n",
       "        vertical-align: top;\n",
       "    }\n",
       "\n",
       "    .dataframe thead th {\n",
       "        text-align: right;\n",
       "    }\n",
       "</style>\n",
       "<table border=\"1\" class=\"dataframe\">\n",
       "  <thead>\n",
       "    <tr style=\"text-align: right;\">\n",
       "      <th></th>\n",
       "      <th>children</th>\n",
       "      <th>days_employed</th>\n",
       "      <th>dob_years</th>\n",
       "      <th>education</th>\n",
       "      <th>education_id</th>\n",
       "      <th>family_status</th>\n",
       "      <th>family_status_id</th>\n",
       "      <th>gender</th>\n",
       "      <th>income_type</th>\n",
       "      <th>debt</th>\n",
       "      <th>total_income</th>\n",
       "      <th>purpose</th>\n",
       "      <th>purpose_new</th>\n",
       "    </tr>\n",
       "  </thead>\n",
       "  <tbody>\n",
       "    <tr>\n",
       "      <td>0</td>\n",
       "      <td>1</td>\n",
       "      <td>-8437</td>\n",
       "      <td>42</td>\n",
       "      <td>высшее</td>\n",
       "      <td>0</td>\n",
       "      <td>женат / замужем</td>\n",
       "      <td>0</td>\n",
       "      <td>F</td>\n",
       "      <td>сотрудник</td>\n",
       "      <td>0</td>\n",
       "      <td>253875</td>\n",
       "      <td>покупка жилья</td>\n",
       "      <td>недвижимость</td>\n",
       "    </tr>\n",
       "    <tr>\n",
       "      <td>1</td>\n",
       "      <td>1</td>\n",
       "      <td>-4024</td>\n",
       "      <td>36</td>\n",
       "      <td>среднее</td>\n",
       "      <td>1</td>\n",
       "      <td>женат / замужем</td>\n",
       "      <td>0</td>\n",
       "      <td>F</td>\n",
       "      <td>сотрудник</td>\n",
       "      <td>0</td>\n",
       "      <td>112080</td>\n",
       "      <td>приобретение автомобиля</td>\n",
       "      <td>автомобиль</td>\n",
       "    </tr>\n",
       "    <tr>\n",
       "      <td>2</td>\n",
       "      <td>0</td>\n",
       "      <td>-5623</td>\n",
       "      <td>33</td>\n",
       "      <td>среднее</td>\n",
       "      <td>1</td>\n",
       "      <td>женат / замужем</td>\n",
       "      <td>0</td>\n",
       "      <td>M</td>\n",
       "      <td>сотрудник</td>\n",
       "      <td>0</td>\n",
       "      <td>145885</td>\n",
       "      <td>покупка жилья</td>\n",
       "      <td>недвижимость</td>\n",
       "    </tr>\n",
       "    <tr>\n",
       "      <td>3</td>\n",
       "      <td>3</td>\n",
       "      <td>-4124</td>\n",
       "      <td>32</td>\n",
       "      <td>среднее</td>\n",
       "      <td>1</td>\n",
       "      <td>женат / замужем</td>\n",
       "      <td>0</td>\n",
       "      <td>M</td>\n",
       "      <td>сотрудник</td>\n",
       "      <td>0</td>\n",
       "      <td>267628</td>\n",
       "      <td>дополнительное образование</td>\n",
       "      <td>образование</td>\n",
       "    </tr>\n",
       "    <tr>\n",
       "      <td>4</td>\n",
       "      <td>0</td>\n",
       "      <td>340266</td>\n",
       "      <td>53</td>\n",
       "      <td>среднее</td>\n",
       "      <td>1</td>\n",
       "      <td>женат / замужем</td>\n",
       "      <td>1</td>\n",
       "      <td>F</td>\n",
       "      <td>пенсионер</td>\n",
       "      <td>0</td>\n",
       "      <td>158616</td>\n",
       "      <td>сыграть свадьбу</td>\n",
       "      <td>свадьба</td>\n",
       "    </tr>\n",
       "  </tbody>\n",
       "</table>\n",
       "</div>"
      ],
      "text/plain": [
       "   children  days_employed  dob_years education  education_id  \\\n",
       "0         1          -8437         42    высшее             0   \n",
       "1         1          -4024         36   среднее             1   \n",
       "2         0          -5623         33   среднее             1   \n",
       "3         3          -4124         32   среднее             1   \n",
       "4         0         340266         53   среднее             1   \n",
       "\n",
       "     family_status  family_status_id gender income_type  debt  total_income  \\\n",
       "0  женат / замужем                 0      F   сотрудник     0        253875   \n",
       "1  женат / замужем                 0      F   сотрудник     0        112080   \n",
       "2  женат / замужем                 0      M   сотрудник     0        145885   \n",
       "3  женат / замужем                 0      M   сотрудник     0        267628   \n",
       "4  женат / замужем                 1      F   пенсионер     0        158616   \n",
       "\n",
       "                      purpose   purpose_new  \n",
       "0               покупка жилья  недвижимость  \n",
       "1     приобретение автомобиля    автомобиль  \n",
       "2               покупка жилья  недвижимость  \n",
       "3  дополнительное образование   образование  \n",
       "4             сыграть свадьбу       свадьба  "
      ]
     },
     "execution_count": 9,
     "metadata": {},
     "output_type": "execute_result"
    }
   ],
   "source": [
    "from pymystem3 import Mystem\n",
    "m = Mystem()\n",
    "def purpose_change(row):\n",
    "    purpose = \" \".join(m.lemmatize(row[\"purpose\"]))\n",
    "    if 'автом' in purpose:\n",
    "        return 'автомобиль'\n",
    "    elif 'свадь' in purpose:\n",
    "        return  'свадьба'\n",
    "    elif 'образов' in purpose:\n",
    "        return 'образование'\n",
    "    elif 'недвиж' in purpose or 'жиль' in purpose:\n",
    "        return 'недвижимость'\n",
    "    else:\n",
    "        return row['purpose']\n",
    "\n",
    "bank['purpose_new']= bank.apply(purpose_change, axis=1)\n",
    "bank.head()"
   ]
  },
  {
   "cell_type": "markdown",
   "metadata": {},
   "source": [
    "### Вывод"
   ]
  },
  {
   "cell_type": "markdown",
   "metadata": {},
   "source": [
    "Что бы осуществоить лемматизацию столбца purpose, я вызвал функцию unique() и изучил необходимые корни. Далее я понял, что надо будет создавать новый столбец. При помощи If, Elif, Else я создал условие которое бы обрабатывало корень слова со столбца purpose выводило бы мною заданое слово в новый столбец."
   ]
  },
  {
   "cell_type": "markdown",
   "metadata": {},
   "source": [
    "### Категоризация данных"
   ]
  },
  {
   "cell_type": "code",
   "execution_count": 10,
   "metadata": {},
   "outputs": [
    {
     "data": {
      "text/plain": [
       "2265604"
      ]
     },
     "execution_count": 10,
     "metadata": {},
     "output_type": "execute_result"
    }
   ],
   "source": [
    "bank[\"total_income\"].max()"
   ]
  },
  {
   "cell_type": "code",
   "execution_count": 11,
   "metadata": {},
   "outputs": [
    {
     "data": {
      "text/plain": [
       "20667"
      ]
     },
     "execution_count": 11,
     "metadata": {},
     "output_type": "execute_result"
    }
   ],
   "source": [
    "bank[\"total_income\"].min()"
   ]
  },
  {
   "cell_type": "code",
   "execution_count": 12,
   "metadata": {},
   "outputs": [
    {
     "data": {
      "text/plain": [
       "167421.80171567362"
      ]
     },
     "execution_count": 12,
     "metadata": {},
     "output_type": "execute_result"
    }
   ],
   "source": [
    "bank[\"total_income\"].mean()"
   ]
  },
  {
   "cell_type": "code",
   "execution_count": 13,
   "metadata": {},
   "outputs": [
    {
     "data": {
      "text/plain": [
       "count    1.935100e+04\n",
       "mean     1.674218e+05\n",
       "std      1.029716e+05\n",
       "min      2.066700e+04\n",
       "25%      1.030530e+05\n",
       "50%      1.450170e+05\n",
       "75%      2.034345e+05\n",
       "max      2.265604e+06\n",
       "Name: total_income, dtype: float64"
      ]
     },
     "execution_count": 13,
     "metadata": {},
     "output_type": "execute_result"
    }
   ],
   "source": [
    "\n",
    "bank[\"total_income\"].describe()"
   ]
  },
  {
   "cell_type": "code",
   "execution_count": 14,
   "metadata": {},
   "outputs": [
    {
     "data": {
      "text/plain": [
       "Высокий уровень доверия          12057\n",
       "Очень высокий уровень доверия     4708\n",
       "Средний уровень доверия           2485\n",
       "Низкий уровень доверия             101\n",
       "Name: level_income, dtype: int64"
      ]
     },
     "execution_count": 14,
     "metadata": {},
     "output_type": "execute_result"
    }
   ],
   "source": [
    "\n",
    "def level_income(row):\n",
    "    purpose = row[\"purpose_new\"]\n",
    "    income = row[\"total_income\"]\n",
    "    debt = row[\"debt\"]\n",
    "    if purpose == \"автомобиль\" or \"образование\" or \"свадьба\" or \"недвижимость\":\n",
    "        if income < 70000:\n",
    "            if debt == 0:\n",
    "                return \"Средний уровень доверия\"\n",
    "    if purpose == \"автомобиль\" or \"образование\" or \"свадьба\" or \"недвижимость\":\n",
    "        if 70000 <= income < 200000:\n",
    "            if debt == 0:\n",
    "                return \"Высокий уровень доверия\"\n",
    "    if purpose == \"автомобиль\" or \"образование\" or \"свадьба\" or \"недвижимость\":\n",
    "        if 200000 <= income:\n",
    "            if debt == 0:\n",
    "                return \"Очень высокий уровень доверия\"\n",
    "    if purpose == \"автомобиль\" or \"образование\" or \"свадьба\" or \"недвижимость\":\n",
    "        if income < 70000:\n",
    "            if debt == 1:\n",
    "                return \"Низкий уровень доверия\"\n",
    "    if purpose == \"автомобиль\" or \"образование\" or \"свадьба\" or \"недвижимость\":\n",
    "        if 70000 <= income < 200000:\n",
    "            if debt == 1:\n",
    "                return \"Средний уровень доверия\"\n",
    "    if purpose == \"автомобиль\" or \"образование\" or \"свадьба\" or \"недвижимость\":\n",
    "        if 200000 <= income:\n",
    "            if debt == 1:\n",
    "                return \"Высокий уровень доверия\"\n",
    "bank[\"level_income\"]= bank.apply(level_income, axis = 1)\n",
    "bank[\"level_income\"].value_counts()\n"
   ]
  },
  {
   "cell_type": "code",
   "execution_count": 15,
   "metadata": {},
   "outputs": [
    {
     "data": {
      "text/plain": [
       "Средний уровень дохода    12811\n",
       "Высокий уровень дохода     5066\n",
       "Низкий уровень дохода      1474\n",
       "Name: wealth, dtype: int64"
      ]
     },
     "execution_count": 15,
     "metadata": {},
     "output_type": "execute_result"
    }
   ],
   "source": [
    "\n",
    "def wealth(row):\n",
    "    income = row[\"total_income\"]\n",
    "    if income < 70000:\n",
    "            return \"Низкий уровень дохода\"\n",
    "    if 70000 <= income < 200000:\n",
    "            return \"Средний уровень дохода\"\n",
    "    if 200000 <= income:\n",
    "            return \"Высокий уровень дохода\"\n",
    "bank[\"wealth\"]= bank.apply(wealth, axis = 1)\n",
    "bank[\"wealth\"].value_counts()\n"
   ]
  },
  {
   "cell_type": "markdown",
   "metadata": {},
   "source": [
    "### Вывод"
   ]
  },
  {
   "cell_type": "markdown",
   "metadata": {},
   "source": [
    "Что бы помочь банку наглядней увидеть кому лучше давать кредит, а кому менее желатель, я создал 4 категории основываясь на зарпалте, история возврата кредита, и зачем людям нужен кредит. Если у человека высокий доход и нету проблем с возвратом кредита, то этим людям желательно выдавать кредит. Если наоборот, то нужно более внимательнее отнестись к выдаче кредитов этим людям."
   ]
  },
  {
   "cell_type": "markdown",
   "metadata": {},
   "source": [
    "### Шаг 3. Ответьте на вопросы"
   ]
  },
  {
   "cell_type": "markdown",
   "metadata": {},
   "source": [
    "- Есть ли зависимость между наличием детей и возвратом кредита в срок?"
   ]
  },
  {
   "cell_type": "code",
   "execution_count": 16,
   "metadata": {},
   "outputs": [
    {
     "data": {
      "text/html": [
       "<div>\n",
       "<style scoped>\n",
       "    .dataframe tbody tr th:only-of-type {\n",
       "        vertical-align: middle;\n",
       "    }\n",
       "\n",
       "    .dataframe tbody tr th {\n",
       "        vertical-align: top;\n",
       "    }\n",
       "\n",
       "    .dataframe thead tr th {\n",
       "        text-align: left;\n",
       "    }\n",
       "\n",
       "    .dataframe thead tr:last-of-type th {\n",
       "        text-align: right;\n",
       "    }\n",
       "</style>\n",
       "<table border=\"1\" class=\"dataframe\">\n",
       "  <thead>\n",
       "    <tr>\n",
       "      <th></th>\n",
       "      <th>count</th>\n",
       "      <th>sum</th>\n",
       "      <th>mean</th>\n",
       "    </tr>\n",
       "    <tr>\n",
       "      <th></th>\n",
       "      <th>debt</th>\n",
       "      <th>debt</th>\n",
       "      <th>debt</th>\n",
       "    </tr>\n",
       "    <tr>\n",
       "      <th>children</th>\n",
       "      <th></th>\n",
       "      <th></th>\n",
       "      <th></th>\n",
       "    </tr>\n",
       "  </thead>\n",
       "  <tbody>\n",
       "    <tr>\n",
       "      <td>0</td>\n",
       "      <td>12710</td>\n",
       "      <td>952</td>\n",
       "      <td>0.074902</td>\n",
       "    </tr>\n",
       "    <tr>\n",
       "      <td>1</td>\n",
       "      <td>4387</td>\n",
       "      <td>409</td>\n",
       "      <td>0.093230</td>\n",
       "    </tr>\n",
       "    <tr>\n",
       "      <td>2</td>\n",
       "      <td>1918</td>\n",
       "      <td>185</td>\n",
       "      <td>0.096455</td>\n",
       "    </tr>\n",
       "    <tr>\n",
       "      <td>3</td>\n",
       "      <td>294</td>\n",
       "      <td>22</td>\n",
       "      <td>0.074830</td>\n",
       "    </tr>\n",
       "    <tr>\n",
       "      <td>4</td>\n",
       "      <td>34</td>\n",
       "      <td>3</td>\n",
       "      <td>0.088235</td>\n",
       "    </tr>\n",
       "    <tr>\n",
       "      <td>5</td>\n",
       "      <td>8</td>\n",
       "      <td>0</td>\n",
       "      <td>0.000000</td>\n",
       "    </tr>\n",
       "  </tbody>\n",
       "</table>\n",
       "</div>"
      ],
      "text/plain": [
       "          count  sum      mean\n",
       "           debt debt      debt\n",
       "children                      \n",
       "0         12710  952  0.074902\n",
       "1          4387  409  0.093230\n",
       "2          1918  185  0.096455\n",
       "3           294   22  0.074830\n",
       "4            34    3  0.088235\n",
       "5             8    0  0.000000"
      ]
     },
     "execution_count": 16,
     "metadata": {},
     "output_type": "execute_result"
    }
   ],
   "source": [
    "data_pivot = bank.pivot_table(index=[\"children\"], values = \"debt\", aggfunc=[\"count\",\"sum\",\"mean\"])\n",
    "data_pivot"
   ]
  },
  {
   "cell_type": "markdown",
   "metadata": {},
   "source": [
    "### Вывод"
   ]
  },
  {
   "cell_type": "markdown",
   "metadata": {},
   "source": [
    "Новый вывод: я добавил два дополнительных столбца, это mean и count, что бы увидеть не только количество людей, но и среднее, для вывода более точных выводов. После добавления, мои ранее выводы оказались ложными, о том, что люди без детей хуже всех отдают кредиты вовремя. Оказалось, что по количеству это правда, но это так потому что, группа этих людей впринципе оказалась самая большая. А в среднем, хуже всех кредиты отдают люди имея двух детей."
   ]
  },
  {
   "cell_type": "markdown",
   "metadata": {},
   "source": [
    "- Есть ли зависимость между семейным положением и возвратом кредита в срок?"
   ]
  },
  {
   "cell_type": "code",
   "execution_count": 17,
   "metadata": {},
   "outputs": [
    {
     "data": {
      "text/html": [
       "<div>\n",
       "<style scoped>\n",
       "    .dataframe tbody tr th:only-of-type {\n",
       "        vertical-align: middle;\n",
       "    }\n",
       "\n",
       "    .dataframe tbody tr th {\n",
       "        vertical-align: top;\n",
       "    }\n",
       "\n",
       "    .dataframe thead tr th {\n",
       "        text-align: left;\n",
       "    }\n",
       "\n",
       "    .dataframe thead tr:last-of-type th {\n",
       "        text-align: right;\n",
       "    }\n",
       "</style>\n",
       "<table border=\"1\" class=\"dataframe\">\n",
       "  <thead>\n",
       "    <tr>\n",
       "      <th></th>\n",
       "      <th>count</th>\n",
       "      <th>sum</th>\n",
       "      <th>mean</th>\n",
       "    </tr>\n",
       "    <tr>\n",
       "      <th></th>\n",
       "      <th>debt</th>\n",
       "      <th>debt</th>\n",
       "      <th>debt</th>\n",
       "    </tr>\n",
       "    <tr>\n",
       "      <th>family_status</th>\n",
       "      <th></th>\n",
       "      <th></th>\n",
       "      <th></th>\n",
       "    </tr>\n",
       "  </thead>\n",
       "  <tbody>\n",
       "    <tr>\n",
       "      <td>Не женат / не замужем</td>\n",
       "      <td>2525</td>\n",
       "      <td>254</td>\n",
       "      <td>0.100594</td>\n",
       "    </tr>\n",
       "    <tr>\n",
       "      <td>в разводе</td>\n",
       "      <td>1083</td>\n",
       "      <td>76</td>\n",
       "      <td>0.070175</td>\n",
       "    </tr>\n",
       "    <tr>\n",
       "      <td>вдовец / вдова</td>\n",
       "      <td>865</td>\n",
       "      <td>56</td>\n",
       "      <td>0.064740</td>\n",
       "    </tr>\n",
       "    <tr>\n",
       "      <td>женат / замужем</td>\n",
       "      <td>14878</td>\n",
       "      <td>1185</td>\n",
       "      <td>0.079648</td>\n",
       "    </tr>\n",
       "  </tbody>\n",
       "</table>\n",
       "</div>"
      ],
      "text/plain": [
       "                       count   sum      mean\n",
       "                        debt  debt      debt\n",
       "family_status                               \n",
       "Не женат / не замужем   2525   254  0.100594\n",
       "в разводе               1083    76  0.070175\n",
       "вдовец / вдова           865    56  0.064740\n",
       "женат / замужем        14878  1185  0.079648"
      ]
     },
     "execution_count": 17,
     "metadata": {},
     "output_type": "execute_result"
    }
   ],
   "source": [
    "data_pivot = bank.pivot_table(index=[\"family_status\"], values = \"debt\", aggfunc=[\"count\",\"sum\",\"mean\"])\n",
    "data_pivot"
   ]
  },
  {
   "cell_type": "markdown",
   "metadata": {},
   "source": [
    "### Вывод"
   ]
  },
  {
   "cell_type": "markdown",
   "metadata": {},
   "source": [
    "Новый вывод: опять же мой предыдущий вывод оказался ложным, в категории женат/замужем больше всех людей, и из за этого у них в по количеству больше всех должников. В среднем, хуже всех отдают люди которые в категории не женат/не замужем."
   ]
  },
  {
   "cell_type": "markdown",
   "metadata": {},
   "source": [
    "- Есть ли зависимость между уровнем дохода и возвратом кредита в срок?"
   ]
  },
  {
   "cell_type": "code",
   "execution_count": 18,
   "metadata": {},
   "outputs": [
    {
     "data": {
      "text/html": [
       "<div>\n",
       "<style scoped>\n",
       "    .dataframe tbody tr th:only-of-type {\n",
       "        vertical-align: middle;\n",
       "    }\n",
       "\n",
       "    .dataframe tbody tr th {\n",
       "        vertical-align: top;\n",
       "    }\n",
       "\n",
       "    .dataframe thead tr th {\n",
       "        text-align: left;\n",
       "    }\n",
       "\n",
       "    .dataframe thead tr:last-of-type th {\n",
       "        text-align: right;\n",
       "    }\n",
       "</style>\n",
       "<table border=\"1\" class=\"dataframe\">\n",
       "  <thead>\n",
       "    <tr>\n",
       "      <th></th>\n",
       "      <th>count</th>\n",
       "      <th>sum</th>\n",
       "      <th>mean</th>\n",
       "    </tr>\n",
       "    <tr>\n",
       "      <th></th>\n",
       "      <th>debt</th>\n",
       "      <th>debt</th>\n",
       "      <th>debt</th>\n",
       "    </tr>\n",
       "    <tr>\n",
       "      <th>wealth</th>\n",
       "      <th></th>\n",
       "      <th></th>\n",
       "      <th></th>\n",
       "    </tr>\n",
       "  </thead>\n",
       "  <tbody>\n",
       "    <tr>\n",
       "      <td>Высокий уровень дохода</td>\n",
       "      <td>5066</td>\n",
       "      <td>358</td>\n",
       "      <td>0.070667</td>\n",
       "    </tr>\n",
       "    <tr>\n",
       "      <td>Низкий уровень дохода</td>\n",
       "      <td>1474</td>\n",
       "      <td>101</td>\n",
       "      <td>0.068521</td>\n",
       "    </tr>\n",
       "    <tr>\n",
       "      <td>Средний уровень дохода</td>\n",
       "      <td>12811</td>\n",
       "      <td>1112</td>\n",
       "      <td>0.086800</td>\n",
       "    </tr>\n",
       "  </tbody>\n",
       "</table>\n",
       "</div>"
      ],
      "text/plain": [
       "                        count   sum      mean\n",
       "                         debt  debt      debt\n",
       "wealth                                       \n",
       "Высокий уровень дохода   5066   358  0.070667\n",
       "Низкий уровень дохода    1474   101  0.068521\n",
       "Средний уровень дохода  12811  1112  0.086800"
      ]
     },
     "execution_count": 18,
     "metadata": {},
     "output_type": "execute_result"
    }
   ],
   "source": [
    "data_pivot = bank.pivot_table(index=[\"wealth\"], values = \"debt\", aggfunc=[\"count\",\"sum\",\"mean\"])\n",
    "data_pivot"
   ]
  },
  {
   "cell_type": "markdown",
   "metadata": {},
   "source": [
    "### Вывод"
   ]
  },
  {
   "cell_type": "markdown",
   "metadata": {},
   "source": [
    "Здесь можно наглядо увидеть, что лучше всех отдают долги люди с низким уровнем дохода, и после них люди с высоким уровнем дохода. Хуже всех отдают со средним уровнем дохода, и разрыв между другими категориями очень значительный.\n",
    "Новый вывод: мой предыдущий вывод оказался правдивым, но теперь я могу наглядно увидеть, что даже в среднем люди в со средним уровнем дохода хуже отдают долги. Но я был не прав в одном, что разрыв очень значительный, столбец \"mean\" наглядно показывает, что разраыв не такой уж и значительный, а разница в количестве людей очень высокая между средним уровнем дохода, и других категорий."
   ]
  },
  {
   "cell_type": "markdown",
   "metadata": {},
   "source": [
    "- Как разные цели кредита влияют на его возврат в срок?"
   ]
  },
  {
   "cell_type": "code",
   "execution_count": 19,
   "metadata": {},
   "outputs": [
    {
     "data": {
      "text/html": [
       "<div>\n",
       "<style scoped>\n",
       "    .dataframe tbody tr th:only-of-type {\n",
       "        vertical-align: middle;\n",
       "    }\n",
       "\n",
       "    .dataframe tbody tr th {\n",
       "        vertical-align: top;\n",
       "    }\n",
       "\n",
       "    .dataframe thead tr th {\n",
       "        text-align: left;\n",
       "    }\n",
       "\n",
       "    .dataframe thead tr:last-of-type th {\n",
       "        text-align: right;\n",
       "    }\n",
       "</style>\n",
       "<table border=\"1\" class=\"dataframe\">\n",
       "  <thead>\n",
       "    <tr>\n",
       "      <th></th>\n",
       "      <th>count</th>\n",
       "      <th>sum</th>\n",
       "      <th>mean</th>\n",
       "    </tr>\n",
       "    <tr>\n",
       "      <th></th>\n",
       "      <th>debt</th>\n",
       "      <th>debt</th>\n",
       "      <th>debt</th>\n",
       "    </tr>\n",
       "    <tr>\n",
       "      <th>purpose_new</th>\n",
       "      <th></th>\n",
       "      <th></th>\n",
       "      <th></th>\n",
       "    </tr>\n",
       "  </thead>\n",
       "  <tbody>\n",
       "    <tr>\n",
       "      <td>автомобиль</td>\n",
       "      <td>3897</td>\n",
       "      <td>367</td>\n",
       "      <td>0.094175</td>\n",
       "    </tr>\n",
       "    <tr>\n",
       "      <td>недвижимость</td>\n",
       "      <td>9758</td>\n",
       "      <td>715</td>\n",
       "      <td>0.073273</td>\n",
       "    </tr>\n",
       "    <tr>\n",
       "      <td>образование</td>\n",
       "      <td>3597</td>\n",
       "      <td>331</td>\n",
       "      <td>0.092021</td>\n",
       "    </tr>\n",
       "    <tr>\n",
       "      <td>свадьба</td>\n",
       "      <td>2099</td>\n",
       "      <td>158</td>\n",
       "      <td>0.075274</td>\n",
       "    </tr>\n",
       "  </tbody>\n",
       "</table>\n",
       "</div>"
      ],
      "text/plain": [
       "             count  sum      mean\n",
       "              debt debt      debt\n",
       "purpose_new                      \n",
       "автомобиль    3897  367  0.094175\n",
       "недвижимость  9758  715  0.073273\n",
       "образование   3597  331  0.092021\n",
       "свадьба       2099  158  0.075274"
      ]
     },
     "execution_count": 19,
     "metadata": {},
     "output_type": "execute_result"
    }
   ],
   "source": [
    "data_pivot = bank.pivot_table(index=[\"purpose_new\"], values = \"debt\", aggfunc=[\"count\",\"sum\",\"mean\"])\n",
    "data_pivot"
   ]
  },
  {
   "cell_type": "markdown",
   "metadata": {},
   "source": [
    "### Вывод"
   ]
  },
  {
   "cell_type": "markdown",
   "metadata": {},
   "source": [
    "Лучше всего отдают кредиты когда берут под свадьбу и на образование. Хуже всего отдают при покупке недвижимости. \n",
    "Новый вывод: Оказалось, что я вообще был не прав. Хуже всех отдают кредиты люди покупающие автомобили и на берущих на образование. "
   ]
  },
  {
   "cell_type": "markdown",
   "metadata": {},
   "source": [
    "### Шаг 4. Общий вывод"
   ]
  },
  {
   "cell_type": "markdown",
   "metadata": {},
   "source": [
    "В общем, хочется сделать портрет человека, который лучше всего будет возвращает кредит в срок, и самого худшего. Лучший, это человек с большим количеством детей, нету второй половинки, с низким уровнем дохода, и берет деньги в кредит на свадьбу. Худший, это человек не имеющий детей, или их мало, женат/замужем, со средним уровнем дохода, и берет он кредит на покупку недвижимости.\n",
    "Новый общий вывод: после изменения в коде, хочу еще раз описать \"идеального\" клиента, и наименее надежного. Идеальный: вдовец или вдова, имеет 5 и более детей, низкий уровень дохода, и этот человек берет кредит для покупки недвижимости. Наиболее опасный: имеет двух детей, средний уровень дохода, не женат или не замужем и берет кредит на покупку автомобиля. После проделанной работы, можно с уверенностью, что при собирании данных происходит много ошибок, такие как пропуски, непонятные значение, отрицательные числа без объяснения, и из-за этого приходиться работать не с полными данными и даже удалять некоторые строки. Это может повлиять на конечный вывод и принести убытки компании. Все это происходит, из-за того, что сотрудники или клиенты вписывают данные вручную, и случайно делают ошибки. Что бы избежать в дальнейшем таких проблем, рекомендую создать опросник, где нельзя было бы вписывать ответы в формате как понимают люди, наглядно это было видно в столбце \"purpose\" где люди писали одни и те же цели по-разному. Нужно создать уже заготовленные ответы, например в столбце пол должно быть только 2 варианта, или мужчина или женщина. Если, например в столбце нет варианта, который подходит клиенту, только в этом случае можно добавлять строку \"Свой вариант\".\n"
   ]
  }
 ],
 "metadata": {
  "ExecuteTimeLog": [
   {
    "duration": 854,
    "start_time": "2021-10-07T12:03:32.513Z"
   },
   {
    "duration": 5824,
    "start_time": "2021-10-07T12:04:03.368Z"
   },
   {
    "duration": 785,
    "start_time": "2021-10-07T12:04:38.706Z"
   },
   {
    "duration": 21,
    "start_time": "2021-10-07T12:04:39.494Z"
   },
   {
    "duration": 6,
    "start_time": "2021-10-07T12:04:39.518Z"
   },
   {
    "duration": 46,
    "start_time": "2021-10-07T12:04:39.527Z"
   },
   {
    "duration": 9,
    "start_time": "2021-10-07T12:04:39.576Z"
   },
   {
    "duration": 20,
    "start_time": "2021-10-07T12:04:39.587Z"
   },
   {
    "duration": 60,
    "start_time": "2021-10-07T12:04:39.609Z"
   },
   {
    "duration": 8,
    "start_time": "2021-10-07T12:04:39.672Z"
   },
   {
    "duration": 5483,
    "start_time": "2021-10-07T12:04:39.684Z"
   },
   {
    "duration": 6,
    "start_time": "2021-10-07T12:04:45.170Z"
   },
   {
    "duration": 31,
    "start_time": "2021-10-07T12:04:45.178Z"
   },
   {
    "duration": 14,
    "start_time": "2021-10-07T12:04:45.211Z"
   },
   {
    "duration": 25,
    "start_time": "2021-10-07T12:04:45.227Z"
   },
   {
    "duration": 866,
    "start_time": "2021-10-07T12:04:45.255Z"
   },
   {
    "duration": 398,
    "start_time": "2021-10-07T12:04:46.124Z"
   },
   {
    "duration": 54,
    "start_time": "2021-10-07T12:04:46.524Z"
   },
   {
    "duration": 48,
    "start_time": "2021-10-07T12:04:46.580Z"
   },
   {
    "duration": 65,
    "start_time": "2021-10-07T12:04:46.631Z"
   },
   {
    "duration": 64,
    "start_time": "2021-10-07T12:04:46.699Z"
   },
   {
    "duration": 902,
    "start_time": "2021-10-07T12:05:27.690Z"
   },
   {
    "duration": 19,
    "start_time": "2021-10-07T12:05:28.595Z"
   },
   {
    "duration": 6,
    "start_time": "2021-10-07T12:05:28.617Z"
   },
   {
    "duration": 42,
    "start_time": "2021-10-07T12:05:28.626Z"
   },
   {
    "duration": 8,
    "start_time": "2021-10-07T12:05:28.671Z"
   },
   {
    "duration": 22,
    "start_time": "2021-10-07T12:05:28.682Z"
   },
   {
    "duration": 60,
    "start_time": "2021-10-07T12:05:28.706Z"
   },
   {
    "duration": 8,
    "start_time": "2021-10-07T12:05:28.769Z"
   },
   {
    "duration": 5371,
    "start_time": "2021-10-07T12:05:28.780Z"
   },
   {
    "duration": 11,
    "start_time": "2021-10-07T12:05:34.154Z"
   },
   {
    "duration": 10,
    "start_time": "2021-10-07T12:05:34.167Z"
   },
   {
    "duration": 9,
    "start_time": "2021-10-07T12:05:34.179Z"
   },
   {
    "duration": 12,
    "start_time": "2021-10-07T12:05:34.191Z"
   },
   {
    "duration": 796,
    "start_time": "2021-10-07T12:05:34.206Z"
   },
   {
    "duration": 382,
    "start_time": "2021-10-07T12:05:35.004Z"
   },
   {
    "duration": 47,
    "start_time": "2021-10-07T12:05:35.388Z"
   },
   {
    "duration": 65,
    "start_time": "2021-10-07T12:05:35.438Z"
   },
   {
    "duration": 69,
    "start_time": "2021-10-07T12:05:35.506Z"
   },
   {
    "duration": 42,
    "start_time": "2021-10-07T12:05:35.578Z"
   }
  ],
  "kernelspec": {
   "display_name": "Python 3",
   "language": "python",
   "name": "python3"
  },
  "language_info": {
   "codemirror_mode": {
    "name": "ipython",
    "version": 3
   },
   "file_extension": ".py",
   "mimetype": "text/x-python",
   "name": "python",
   "nbconvert_exporter": "python",
   "pygments_lexer": "ipython3",
   "version": "3.7.8"
  },
  "toc": {
   "base_numbering": 1,
   "nav_menu": {},
   "number_sections": true,
   "sideBar": true,
   "skip_h1_title": true,
   "title_cell": "Table of Contents",
   "title_sidebar": "Contents",
   "toc_cell": false,
   "toc_position": {},
   "toc_section_display": true,
   "toc_window_display": false
  }
 },
 "nbformat": 4,
 "nbformat_minor": 2
}
