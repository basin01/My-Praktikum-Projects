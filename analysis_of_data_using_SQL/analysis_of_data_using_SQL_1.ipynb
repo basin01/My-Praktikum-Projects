{
 "cells": [
  {
   "cell_type": "markdown",
   "metadata": {},
   "source": [
    "# Анализ сервиса для чтения книг\n",
    "\n",
    "\n",
    "# Цель:\n",
    "\n",
    "Основная цель проекта это создание ценностное предложение для нового продукта.\n",
    "\n",
    "\n",
    "# Задача:\n",
    "\n",
    "- Посчитать сколько книг вышло после 1 января 2000 года;\n",
    "\n",
    "- Для каждой книги посчитать количество обзоров и среднюю оценку;\n",
    "\n",
    "- Определить издательство, которое выпустило наибольшее число книг толще 50 страниц — так можно исключить из анализа брошюры;\n",
    "\n",
    "- Определить автора с самой высокой средней оценкой книг — учитывая только книги с 50 и более оценками;\n",
    "\n",
    "- Посчитать среднее количество обзоров от пользователей, которые поставили больше 50 оценок.\n",
    "\n",
    "\n",
    "# Аббревиатуры:\n",
    "\n",
    "## Датасет *books*:\n",
    "\n",
    "- `book_id` — идентификатор книги;\n",
    "- `author_id` — идентификатор автора;\n",
    "- `title` — название книги;\n",
    "- `num_pages` — количество страниц;\n",
    "- `publication_date` — дата публикации книги;\n",
    "- `publisher_id` — идентификатор издателя.\n",
    "\n",
    "## Датасет *authors*:\n",
    "\n",
    "- `author_id` — идентификатор автора;\n",
    "- `author` — имя автора.\n",
    "\n",
    "## Датасет *publishers*:\n",
    "\n",
    "- `publisher_id` — идентификатор издательства;\n",
    "- `publisher` — название издательства;\n",
    "\n",
    "## Датасет *ratings*:\n",
    "\n",
    "- `rating_id` — идентификатор оценки;\n",
    "- `book_id` — идентификатор книги;\n",
    "- `username` — имя пользователя, оставившего оценку;\n",
    "- `rating` — оценка книги.\n",
    "\n",
    "## Датасет *reviews*:\n",
    "\n",
    "- `review_id` — идентификатор обзора;\n",
    "- `book_id` — идентификатор книги;\n",
    "- `username` — имя пользователя, написавшего обзор;\n",
    "- `text` — текст обзора."
   ]
  },
  {
   "cell_type": "markdown",
   "metadata": {},
   "source": [
    "# Оглавление:\n",
    "\n",
    "[Вниз](#eight)<a id= 'nine'></a>\n",
    "\n",
    "[Шаг 1. Изучение таблиц](#one)\n",
    "\n",
    "[Шаг 2. Сколько книг вышло после 1 января 2000 года](#two)\n",
    "\n",
    "[Шаг 3. Количество обзоров и средняя оценка для каждой книги](#three)\n",
    "\n",
    "[Шаг 4. Определить издательство, которое выпустило наибольшее число книг](#four)\n",
    "\n",
    "[Шаг 5. Определить автора с самой высокой средней оценкой книг](#five)\n",
    "\n",
    "[Шаг 6. Посчитать среднее количество обзоров от пользователей](#six)\n",
    "\n",
    "[Общий вывод](#seven)"
   ]
  },
  {
   "cell_type": "markdown",
   "metadata": {},
   "source": [
    "<a id= 'one'></a>\n",
    "# Шаг 1. \n",
    "# Изучение таблиц"
   ]
  },
  {
   "cell_type": "code",
   "execution_count": 1,
   "metadata": {},
   "outputs": [],
   "source": [
    "import pandas as pd\n",
    "import requests\n",
    "from bs4 import BeautifulSoup\n",
    "from sqlalchemy import create_engine "
   ]
  },
  {
   "cell_type": "code",
   "execution_count": 2,
   "metadata": {},
   "outputs": [],
   "source": [
    "db_config = {'user': 'praktikum_student', # имя пользователя\n",
    " 'pwd': 'Sdf4$2;d-d30pp', # пароль\n",
    " 'host': 'rc1b-wcoijxj3yxfsf3fs.mdb.yandexcloud.net',\n",
    " 'port': 6432, # порт подключения\n",
    " 'db': 'data-analyst-final-project-db'} # название базы данных\n",
    "connection_string = 'postgresql://{}:{}@{}:{}/{}'.format(db_config['user'],\n",
    " db_config['pwd'],\n",
    " db_config['host'],\n",
    " db_config['port'],\n",
    " db_config['db'])\n",
    "# сохраняем коннектор\n",
    "engine = create_engine(connection_string, connect_args={'sslmode':'require'}) "
   ]
  },
  {
   "cell_type": "code",
   "execution_count": 3,
   "metadata": {},
   "outputs": [],
   "source": [
    "books = ''' SELECT * FROM books'''"
   ]
  },
  {
   "cell_type": "code",
   "execution_count": 4,
   "metadata": {},
   "outputs": [],
   "source": [
    "books = pd.io.sql.read_sql(books, con = engine)"
   ]
  },
  {
   "cell_type": "code",
   "execution_count": 5,
   "metadata": {},
   "outputs": [],
   "source": [
    "books.to_csv('data.csv', index = False)"
   ]
  },
  {
   "cell_type": "code",
   "execution_count": 6,
   "metadata": {},
   "outputs": [
    {
     "data": {
      "text/html": [
       "<div>\n",
       "<style scoped>\n",
       "    .dataframe tbody tr th:only-of-type {\n",
       "        vertical-align: middle;\n",
       "    }\n",
       "\n",
       "    .dataframe tbody tr th {\n",
       "        vertical-align: top;\n",
       "    }\n",
       "\n",
       "    .dataframe thead th {\n",
       "        text-align: right;\n",
       "    }\n",
       "</style>\n",
       "<table border=\"1\" class=\"dataframe\">\n",
       "  <thead>\n",
       "    <tr style=\"text-align: right;\">\n",
       "      <th></th>\n",
       "      <th>book_id</th>\n",
       "      <th>author_id</th>\n",
       "      <th>title</th>\n",
       "      <th>num_pages</th>\n",
       "      <th>publication_date</th>\n",
       "      <th>publisher_id</th>\n",
       "    </tr>\n",
       "  </thead>\n",
       "  <tbody>\n",
       "    <tr>\n",
       "      <td>0</td>\n",
       "      <td>1</td>\n",
       "      <td>546</td>\n",
       "      <td>'Salem's Lot</td>\n",
       "      <td>594</td>\n",
       "      <td>2005-11-01</td>\n",
       "      <td>93</td>\n",
       "    </tr>\n",
       "    <tr>\n",
       "      <td>1</td>\n",
       "      <td>2</td>\n",
       "      <td>465</td>\n",
       "      <td>1 000 Places to See Before You Die</td>\n",
       "      <td>992</td>\n",
       "      <td>2003-05-22</td>\n",
       "      <td>336</td>\n",
       "    </tr>\n",
       "    <tr>\n",
       "      <td>2</td>\n",
       "      <td>3</td>\n",
       "      <td>407</td>\n",
       "      <td>13 Little Blue Envelopes (Little Blue Envelope...</td>\n",
       "      <td>322</td>\n",
       "      <td>2010-12-21</td>\n",
       "      <td>135</td>\n",
       "    </tr>\n",
       "    <tr>\n",
       "      <td>3</td>\n",
       "      <td>4</td>\n",
       "      <td>82</td>\n",
       "      <td>1491: New Revelations of the Americas Before C...</td>\n",
       "      <td>541</td>\n",
       "      <td>2006-10-10</td>\n",
       "      <td>309</td>\n",
       "    </tr>\n",
       "    <tr>\n",
       "      <td>4</td>\n",
       "      <td>5</td>\n",
       "      <td>125</td>\n",
       "      <td>1776</td>\n",
       "      <td>386</td>\n",
       "      <td>2006-07-04</td>\n",
       "      <td>268</td>\n",
       "    </tr>\n",
       "    <tr>\n",
       "      <td>...</td>\n",
       "      <td>...</td>\n",
       "      <td>...</td>\n",
       "      <td>...</td>\n",
       "      <td>...</td>\n",
       "      <td>...</td>\n",
       "      <td>...</td>\n",
       "    </tr>\n",
       "    <tr>\n",
       "      <td>995</td>\n",
       "      <td>996</td>\n",
       "      <td>571</td>\n",
       "      <td>Wyrd Sisters (Discworld  #6; Witches #2)</td>\n",
       "      <td>265</td>\n",
       "      <td>2001-02-06</td>\n",
       "      <td>147</td>\n",
       "    </tr>\n",
       "    <tr>\n",
       "      <td>996</td>\n",
       "      <td>997</td>\n",
       "      <td>454</td>\n",
       "      <td>Xenocide (Ender's Saga  #3)</td>\n",
       "      <td>592</td>\n",
       "      <td>1996-07-15</td>\n",
       "      <td>297</td>\n",
       "    </tr>\n",
       "    <tr>\n",
       "      <td>997</td>\n",
       "      <td>998</td>\n",
       "      <td>201</td>\n",
       "      <td>Year of Wonders</td>\n",
       "      <td>358</td>\n",
       "      <td>2002-04-30</td>\n",
       "      <td>212</td>\n",
       "    </tr>\n",
       "    <tr>\n",
       "      <td>998</td>\n",
       "      <td>999</td>\n",
       "      <td>94</td>\n",
       "      <td>You Suck (A Love Story  #2)</td>\n",
       "      <td>328</td>\n",
       "      <td>2007-01-16</td>\n",
       "      <td>331</td>\n",
       "    </tr>\n",
       "    <tr>\n",
       "      <td>999</td>\n",
       "      <td>1000</td>\n",
       "      <td>509</td>\n",
       "      <td>Zen and the Art of Motorcycle Maintenance: An ...</td>\n",
       "      <td>540</td>\n",
       "      <td>2006-04-25</td>\n",
       "      <td>143</td>\n",
       "    </tr>\n",
       "  </tbody>\n",
       "</table>\n",
       "<p>1000 rows × 6 columns</p>\n",
       "</div>"
      ],
      "text/plain": [
       "     book_id  author_id                                              title  \\\n",
       "0          1        546                                       'Salem's Lot   \n",
       "1          2        465                 1 000 Places to See Before You Die   \n",
       "2          3        407  13 Little Blue Envelopes (Little Blue Envelope...   \n",
       "3          4         82  1491: New Revelations of the Americas Before C...   \n",
       "4          5        125                                               1776   \n",
       "..       ...        ...                                                ...   \n",
       "995      996        571           Wyrd Sisters (Discworld  #6; Witches #2)   \n",
       "996      997        454                        Xenocide (Ender's Saga  #3)   \n",
       "997      998        201                                    Year of Wonders   \n",
       "998      999         94                        You Suck (A Love Story  #2)   \n",
       "999     1000        509  Zen and the Art of Motorcycle Maintenance: An ...   \n",
       "\n",
       "     num_pages publication_date  publisher_id  \n",
       "0          594       2005-11-01            93  \n",
       "1          992       2003-05-22           336  \n",
       "2          322       2010-12-21           135  \n",
       "3          541       2006-10-10           309  \n",
       "4          386       2006-07-04           268  \n",
       "..         ...              ...           ...  \n",
       "995        265       2001-02-06           147  \n",
       "996        592       1996-07-15           297  \n",
       "997        358       2002-04-30           212  \n",
       "998        328       2007-01-16           331  \n",
       "999        540       2006-04-25           143  \n",
       "\n",
       "[1000 rows x 6 columns]"
      ]
     },
     "execution_count": 6,
     "metadata": {},
     "output_type": "execute_result"
    }
   ],
   "source": [
    "books"
   ]
  },
  {
   "cell_type": "code",
   "execution_count": 7,
   "metadata": {},
   "outputs": [],
   "source": [
    "authors = ''' SELECT * FROM authors'''\n",
    "authors = pd.io.sql.read_sql(authors, con = engine)\n",
    "authors.to_csv('data.csv', index = False)"
   ]
  },
  {
   "cell_type": "code",
   "execution_count": 8,
   "metadata": {},
   "outputs": [
    {
     "data": {
      "text/html": [
       "<div>\n",
       "<style scoped>\n",
       "    .dataframe tbody tr th:only-of-type {\n",
       "        vertical-align: middle;\n",
       "    }\n",
       "\n",
       "    .dataframe tbody tr th {\n",
       "        vertical-align: top;\n",
       "    }\n",
       "\n",
       "    .dataframe thead th {\n",
       "        text-align: right;\n",
       "    }\n",
       "</style>\n",
       "<table border=\"1\" class=\"dataframe\">\n",
       "  <thead>\n",
       "    <tr style=\"text-align: right;\">\n",
       "      <th></th>\n",
       "      <th>author_id</th>\n",
       "      <th>author</th>\n",
       "    </tr>\n",
       "  </thead>\n",
       "  <tbody>\n",
       "    <tr>\n",
       "      <td>0</td>\n",
       "      <td>1</td>\n",
       "      <td>A.S. Byatt</td>\n",
       "    </tr>\n",
       "    <tr>\n",
       "      <td>1</td>\n",
       "      <td>2</td>\n",
       "      <td>Aesop/Laura Harris/Laura Gibbs</td>\n",
       "    </tr>\n",
       "    <tr>\n",
       "      <td>2</td>\n",
       "      <td>3</td>\n",
       "      <td>Agatha Christie</td>\n",
       "    </tr>\n",
       "    <tr>\n",
       "      <td>3</td>\n",
       "      <td>4</td>\n",
       "      <td>Alan Brennert</td>\n",
       "    </tr>\n",
       "    <tr>\n",
       "      <td>4</td>\n",
       "      <td>5</td>\n",
       "      <td>Alan Moore/David   Lloyd</td>\n",
       "    </tr>\n",
       "    <tr>\n",
       "      <td>...</td>\n",
       "      <td>...</td>\n",
       "      <td>...</td>\n",
       "    </tr>\n",
       "    <tr>\n",
       "      <td>631</td>\n",
       "      <td>632</td>\n",
       "      <td>William Strunk Jr./E.B. White</td>\n",
       "    </tr>\n",
       "    <tr>\n",
       "      <td>632</td>\n",
       "      <td>633</td>\n",
       "      <td>Zadie Smith</td>\n",
       "    </tr>\n",
       "    <tr>\n",
       "      <td>633</td>\n",
       "      <td>634</td>\n",
       "      <td>Zilpha Keatley Snyder</td>\n",
       "    </tr>\n",
       "    <tr>\n",
       "      <td>634</td>\n",
       "      <td>635</td>\n",
       "      <td>Zora Neale Hurston</td>\n",
       "    </tr>\n",
       "    <tr>\n",
       "      <td>635</td>\n",
       "      <td>636</td>\n",
       "      <td>Åsne Seierstad/Ingrid Christopherson</td>\n",
       "    </tr>\n",
       "  </tbody>\n",
       "</table>\n",
       "<p>636 rows × 2 columns</p>\n",
       "</div>"
      ],
      "text/plain": [
       "     author_id                                author\n",
       "0            1                            A.S. Byatt\n",
       "1            2        Aesop/Laura Harris/Laura Gibbs\n",
       "2            3                       Agatha Christie\n",
       "3            4                         Alan Brennert\n",
       "4            5              Alan Moore/David   Lloyd\n",
       "..         ...                                   ...\n",
       "631        632         William Strunk Jr./E.B. White\n",
       "632        633                           Zadie Smith\n",
       "633        634                 Zilpha Keatley Snyder\n",
       "634        635                    Zora Neale Hurston\n",
       "635        636  Åsne Seierstad/Ingrid Christopherson\n",
       "\n",
       "[636 rows x 2 columns]"
      ]
     },
     "execution_count": 8,
     "metadata": {},
     "output_type": "execute_result"
    }
   ],
   "source": [
    "authors"
   ]
  },
  {
   "cell_type": "code",
   "execution_count": 9,
   "metadata": {},
   "outputs": [],
   "source": [
    "ratings = ''' SELECT * FROM ratings'''\n",
    "ratings = pd.io.sql.read_sql(ratings, con = engine)\n",
    "ratings.to_csv('ratings.csv', index = False)"
   ]
  },
  {
   "cell_type": "code",
   "execution_count": 10,
   "metadata": {},
   "outputs": [
    {
     "data": {
      "text/html": [
       "<div>\n",
       "<style scoped>\n",
       "    .dataframe tbody tr th:only-of-type {\n",
       "        vertical-align: middle;\n",
       "    }\n",
       "\n",
       "    .dataframe tbody tr th {\n",
       "        vertical-align: top;\n",
       "    }\n",
       "\n",
       "    .dataframe thead th {\n",
       "        text-align: right;\n",
       "    }\n",
       "</style>\n",
       "<table border=\"1\" class=\"dataframe\">\n",
       "  <thead>\n",
       "    <tr style=\"text-align: right;\">\n",
       "      <th></th>\n",
       "      <th>rating_id</th>\n",
       "      <th>book_id</th>\n",
       "      <th>username</th>\n",
       "      <th>rating</th>\n",
       "    </tr>\n",
       "  </thead>\n",
       "  <tbody>\n",
       "    <tr>\n",
       "      <td>0</td>\n",
       "      <td>1</td>\n",
       "      <td>1</td>\n",
       "      <td>ryanfranco</td>\n",
       "      <td>4</td>\n",
       "    </tr>\n",
       "    <tr>\n",
       "      <td>1</td>\n",
       "      <td>2</td>\n",
       "      <td>1</td>\n",
       "      <td>grantpatricia</td>\n",
       "      <td>2</td>\n",
       "    </tr>\n",
       "    <tr>\n",
       "      <td>2</td>\n",
       "      <td>3</td>\n",
       "      <td>1</td>\n",
       "      <td>brandtandrea</td>\n",
       "      <td>5</td>\n",
       "    </tr>\n",
       "    <tr>\n",
       "      <td>3</td>\n",
       "      <td>4</td>\n",
       "      <td>2</td>\n",
       "      <td>lorichen</td>\n",
       "      <td>3</td>\n",
       "    </tr>\n",
       "    <tr>\n",
       "      <td>4</td>\n",
       "      <td>5</td>\n",
       "      <td>2</td>\n",
       "      <td>mariokeller</td>\n",
       "      <td>2</td>\n",
       "    </tr>\n",
       "    <tr>\n",
       "      <td>...</td>\n",
       "      <td>...</td>\n",
       "      <td>...</td>\n",
       "      <td>...</td>\n",
       "      <td>...</td>\n",
       "    </tr>\n",
       "    <tr>\n",
       "      <td>6451</td>\n",
       "      <td>6452</td>\n",
       "      <td>1000</td>\n",
       "      <td>carolrodriguez</td>\n",
       "      <td>4</td>\n",
       "    </tr>\n",
       "    <tr>\n",
       "      <td>6452</td>\n",
       "      <td>6453</td>\n",
       "      <td>1000</td>\n",
       "      <td>wendy18</td>\n",
       "      <td>4</td>\n",
       "    </tr>\n",
       "    <tr>\n",
       "      <td>6453</td>\n",
       "      <td>6454</td>\n",
       "      <td>1000</td>\n",
       "      <td>jarvispaul</td>\n",
       "      <td>5</td>\n",
       "    </tr>\n",
       "    <tr>\n",
       "      <td>6454</td>\n",
       "      <td>6455</td>\n",
       "      <td>1000</td>\n",
       "      <td>zross</td>\n",
       "      <td>2</td>\n",
       "    </tr>\n",
       "    <tr>\n",
       "      <td>6455</td>\n",
       "      <td>6456</td>\n",
       "      <td>1000</td>\n",
       "      <td>fharris</td>\n",
       "      <td>5</td>\n",
       "    </tr>\n",
       "  </tbody>\n",
       "</table>\n",
       "<p>6456 rows × 4 columns</p>\n",
       "</div>"
      ],
      "text/plain": [
       "      rating_id  book_id        username  rating\n",
       "0             1        1      ryanfranco       4\n",
       "1             2        1   grantpatricia       2\n",
       "2             3        1    brandtandrea       5\n",
       "3             4        2        lorichen       3\n",
       "4             5        2     mariokeller       2\n",
       "...         ...      ...             ...     ...\n",
       "6451       6452     1000  carolrodriguez       4\n",
       "6452       6453     1000         wendy18       4\n",
       "6453       6454     1000      jarvispaul       5\n",
       "6454       6455     1000           zross       2\n",
       "6455       6456     1000         fharris       5\n",
       "\n",
       "[6456 rows x 4 columns]"
      ]
     },
     "execution_count": 10,
     "metadata": {},
     "output_type": "execute_result"
    }
   ],
   "source": [
    "ratings"
   ]
  },
  {
   "cell_type": "code",
   "execution_count": 11,
   "metadata": {},
   "outputs": [],
   "source": [
    "reviews = ''' SELECT * FROM reviews'''\n",
    "reviews = pd.io.sql.read_sql(reviews, con = engine)\n",
    "reviews.to_csv('reviews.csv', index = False)"
   ]
  },
  {
   "cell_type": "code",
   "execution_count": 12,
   "metadata": {},
   "outputs": [
    {
     "data": {
      "text/html": [
       "<div>\n",
       "<style scoped>\n",
       "    .dataframe tbody tr th:only-of-type {\n",
       "        vertical-align: middle;\n",
       "    }\n",
       "\n",
       "    .dataframe tbody tr th {\n",
       "        vertical-align: top;\n",
       "    }\n",
       "\n",
       "    .dataframe thead th {\n",
       "        text-align: right;\n",
       "    }\n",
       "</style>\n",
       "<table border=\"1\" class=\"dataframe\">\n",
       "  <thead>\n",
       "    <tr style=\"text-align: right;\">\n",
       "      <th></th>\n",
       "      <th>review_id</th>\n",
       "      <th>book_id</th>\n",
       "      <th>username</th>\n",
       "      <th>text</th>\n",
       "    </tr>\n",
       "  </thead>\n",
       "  <tbody>\n",
       "    <tr>\n",
       "      <td>0</td>\n",
       "      <td>1</td>\n",
       "      <td>1</td>\n",
       "      <td>brandtandrea</td>\n",
       "      <td>Mention society tell send professor analysis. ...</td>\n",
       "    </tr>\n",
       "    <tr>\n",
       "      <td>1</td>\n",
       "      <td>2</td>\n",
       "      <td>1</td>\n",
       "      <td>ryanfranco</td>\n",
       "      <td>Foot glass pretty audience hit themselves. Amo...</td>\n",
       "    </tr>\n",
       "    <tr>\n",
       "      <td>2</td>\n",
       "      <td>3</td>\n",
       "      <td>2</td>\n",
       "      <td>lorichen</td>\n",
       "      <td>Listen treat keep worry. Miss husband tax but ...</td>\n",
       "    </tr>\n",
       "    <tr>\n",
       "      <td>3</td>\n",
       "      <td>4</td>\n",
       "      <td>3</td>\n",
       "      <td>johnsonamanda</td>\n",
       "      <td>Finally month interesting blue could nature cu...</td>\n",
       "    </tr>\n",
       "    <tr>\n",
       "      <td>4</td>\n",
       "      <td>5</td>\n",
       "      <td>3</td>\n",
       "      <td>scotttamara</td>\n",
       "      <td>Nation purpose heavy give wait song will. List...</td>\n",
       "    </tr>\n",
       "    <tr>\n",
       "      <td>...</td>\n",
       "      <td>...</td>\n",
       "      <td>...</td>\n",
       "      <td>...</td>\n",
       "      <td>...</td>\n",
       "    </tr>\n",
       "    <tr>\n",
       "      <td>2788</td>\n",
       "      <td>2789</td>\n",
       "      <td>999</td>\n",
       "      <td>martinadam</td>\n",
       "      <td>Later hospital turn easy community. Fact same ...</td>\n",
       "    </tr>\n",
       "    <tr>\n",
       "      <td>2789</td>\n",
       "      <td>2790</td>\n",
       "      <td>1000</td>\n",
       "      <td>wknight</td>\n",
       "      <td>Change lose answer close pressure. Spend so now.</td>\n",
       "    </tr>\n",
       "    <tr>\n",
       "      <td>2790</td>\n",
       "      <td>2791</td>\n",
       "      <td>1000</td>\n",
       "      <td>carolrodriguez</td>\n",
       "      <td>Authority go who television entire hair guy po...</td>\n",
       "    </tr>\n",
       "    <tr>\n",
       "      <td>2791</td>\n",
       "      <td>2792</td>\n",
       "      <td>1000</td>\n",
       "      <td>wendy18</td>\n",
       "      <td>Or western offer wonder ask. More hear phone f...</td>\n",
       "    </tr>\n",
       "    <tr>\n",
       "      <td>2792</td>\n",
       "      <td>2793</td>\n",
       "      <td>1000</td>\n",
       "      <td>jarvispaul</td>\n",
       "      <td>Republican staff bit eat material measure plan...</td>\n",
       "    </tr>\n",
       "  </tbody>\n",
       "</table>\n",
       "<p>2793 rows × 4 columns</p>\n",
       "</div>"
      ],
      "text/plain": [
       "      review_id  book_id        username  \\\n",
       "0             1        1    brandtandrea   \n",
       "1             2        1      ryanfranco   \n",
       "2             3        2        lorichen   \n",
       "3             4        3   johnsonamanda   \n",
       "4             5        3     scotttamara   \n",
       "...         ...      ...             ...   \n",
       "2788       2789      999      martinadam   \n",
       "2789       2790     1000         wknight   \n",
       "2790       2791     1000  carolrodriguez   \n",
       "2791       2792     1000         wendy18   \n",
       "2792       2793     1000      jarvispaul   \n",
       "\n",
       "                                                   text  \n",
       "0     Mention society tell send professor analysis. ...  \n",
       "1     Foot glass pretty audience hit themselves. Amo...  \n",
       "2     Listen treat keep worry. Miss husband tax but ...  \n",
       "3     Finally month interesting blue could nature cu...  \n",
       "4     Nation purpose heavy give wait song will. List...  \n",
       "...                                                 ...  \n",
       "2788  Later hospital turn easy community. Fact same ...  \n",
       "2789   Change lose answer close pressure. Spend so now.  \n",
       "2790  Authority go who television entire hair guy po...  \n",
       "2791  Or western offer wonder ask. More hear phone f...  \n",
       "2792  Republican staff bit eat material measure plan...  \n",
       "\n",
       "[2793 rows x 4 columns]"
      ]
     },
     "execution_count": 12,
     "metadata": {},
     "output_type": "execute_result"
    }
   ],
   "source": [
    "reviews"
   ]
  },
  {
   "cell_type": "markdown",
   "metadata": {},
   "source": [
    "<a id= 'two'></a>\n",
    "# Шаг 2. \n",
    "# Сколько книг вышло после 1 января 2000 года"
   ]
  },
  {
   "cell_type": "code",
   "execution_count": 13,
   "metadata": {},
   "outputs": [],
   "source": [
    "books_date = ''' \n",
    "    SELECT DISTINCT COUNT(*) \n",
    "    FROM books\n",
    "    WHERE publication_date > '2000-01-01'\n",
    "    '''"
   ]
  },
  {
   "cell_type": "code",
   "execution_count": 14,
   "metadata": {},
   "outputs": [
    {
     "data": {
      "text/html": [
       "<div>\n",
       "<style scoped>\n",
       "    .dataframe tbody tr th:only-of-type {\n",
       "        vertical-align: middle;\n",
       "    }\n",
       "\n",
       "    .dataframe tbody tr th {\n",
       "        vertical-align: top;\n",
       "    }\n",
       "\n",
       "    .dataframe thead th {\n",
       "        text-align: right;\n",
       "    }\n",
       "</style>\n",
       "<table border=\"1\" class=\"dataframe\">\n",
       "  <thead>\n",
       "    <tr style=\"text-align: right;\">\n",
       "      <th></th>\n",
       "      <th>count</th>\n",
       "    </tr>\n",
       "  </thead>\n",
       "  <tbody>\n",
       "    <tr>\n",
       "      <td>0</td>\n",
       "      <td>819</td>\n",
       "    </tr>\n",
       "  </tbody>\n",
       "</table>\n",
       "</div>"
      ],
      "text/plain": [
       "   count\n",
       "0    819"
      ]
     },
     "execution_count": 14,
     "metadata": {},
     "output_type": "execute_result"
    }
   ],
   "source": [
    "pd.io.sql.read_sql(books_date, con = engine)"
   ]
  },
  {
   "cell_type": "markdown",
   "metadata": {},
   "source": [
    "После 2000 года вышло 819 книг, учитывая в общое количества книг равна 1000, то это довольно много."
   ]
  },
  {
   "cell_type": "markdown",
   "metadata": {},
   "source": [
    "<a id= 'three'></a>\n",
    "# Шаг 3. \n",
    "# Количество обзоров и средняя оценка для каждой книги"
   ]
  },
  {
   "cell_type": "code",
   "execution_count": 15,
   "metadata": {},
   "outputs": [
    {
     "data": {
      "text/html": [
       "<div>\n",
       "<style scoped>\n",
       "    .dataframe tbody tr th:only-of-type {\n",
       "        vertical-align: middle;\n",
       "    }\n",
       "\n",
       "    .dataframe tbody tr th {\n",
       "        vertical-align: top;\n",
       "    }\n",
       "\n",
       "    .dataframe thead th {\n",
       "        text-align: right;\n",
       "    }\n",
       "</style>\n",
       "<table border=\"1\" class=\"dataframe\">\n",
       "  <thead>\n",
       "    <tr style=\"text-align: right;\">\n",
       "      <th></th>\n",
       "      <th>review_id</th>\n",
       "      <th>book_id</th>\n",
       "      <th>username</th>\n",
       "      <th>text</th>\n",
       "    </tr>\n",
       "  </thead>\n",
       "  <tbody>\n",
       "    <tr>\n",
       "      <td>0</td>\n",
       "      <td>1</td>\n",
       "      <td>1</td>\n",
       "      <td>brandtandrea</td>\n",
       "      <td>Mention society tell send professor analysis. ...</td>\n",
       "    </tr>\n",
       "    <tr>\n",
       "      <td>1</td>\n",
       "      <td>2</td>\n",
       "      <td>1</td>\n",
       "      <td>ryanfranco</td>\n",
       "      <td>Foot glass pretty audience hit themselves. Amo...</td>\n",
       "    </tr>\n",
       "    <tr>\n",
       "      <td>2</td>\n",
       "      <td>3</td>\n",
       "      <td>2</td>\n",
       "      <td>lorichen</td>\n",
       "      <td>Listen treat keep worry. Miss husband tax but ...</td>\n",
       "    </tr>\n",
       "    <tr>\n",
       "      <td>3</td>\n",
       "      <td>4</td>\n",
       "      <td>3</td>\n",
       "      <td>johnsonamanda</td>\n",
       "      <td>Finally month interesting blue could nature cu...</td>\n",
       "    </tr>\n",
       "    <tr>\n",
       "      <td>4</td>\n",
       "      <td>5</td>\n",
       "      <td>3</td>\n",
       "      <td>scotttamara</td>\n",
       "      <td>Nation purpose heavy give wait song will. List...</td>\n",
       "    </tr>\n",
       "    <tr>\n",
       "      <td>...</td>\n",
       "      <td>...</td>\n",
       "      <td>...</td>\n",
       "      <td>...</td>\n",
       "      <td>...</td>\n",
       "    </tr>\n",
       "    <tr>\n",
       "      <td>2788</td>\n",
       "      <td>2789</td>\n",
       "      <td>999</td>\n",
       "      <td>martinadam</td>\n",
       "      <td>Later hospital turn easy community. Fact same ...</td>\n",
       "    </tr>\n",
       "    <tr>\n",
       "      <td>2789</td>\n",
       "      <td>2790</td>\n",
       "      <td>1000</td>\n",
       "      <td>wknight</td>\n",
       "      <td>Change lose answer close pressure. Spend so now.</td>\n",
       "    </tr>\n",
       "    <tr>\n",
       "      <td>2790</td>\n",
       "      <td>2791</td>\n",
       "      <td>1000</td>\n",
       "      <td>carolrodriguez</td>\n",
       "      <td>Authority go who television entire hair guy po...</td>\n",
       "    </tr>\n",
       "    <tr>\n",
       "      <td>2791</td>\n",
       "      <td>2792</td>\n",
       "      <td>1000</td>\n",
       "      <td>wendy18</td>\n",
       "      <td>Or western offer wonder ask. More hear phone f...</td>\n",
       "    </tr>\n",
       "    <tr>\n",
       "      <td>2792</td>\n",
       "      <td>2793</td>\n",
       "      <td>1000</td>\n",
       "      <td>jarvispaul</td>\n",
       "      <td>Republican staff bit eat material measure plan...</td>\n",
       "    </tr>\n",
       "  </tbody>\n",
       "</table>\n",
       "<p>2793 rows × 4 columns</p>\n",
       "</div>"
      ],
      "text/plain": [
       "      review_id  book_id        username  \\\n",
       "0             1        1    brandtandrea   \n",
       "1             2        1      ryanfranco   \n",
       "2             3        2        lorichen   \n",
       "3             4        3   johnsonamanda   \n",
       "4             5        3     scotttamara   \n",
       "...         ...      ...             ...   \n",
       "2788       2789      999      martinadam   \n",
       "2789       2790     1000         wknight   \n",
       "2790       2791     1000  carolrodriguez   \n",
       "2791       2792     1000         wendy18   \n",
       "2792       2793     1000      jarvispaul   \n",
       "\n",
       "                                                   text  \n",
       "0     Mention society tell send professor analysis. ...  \n",
       "1     Foot glass pretty audience hit themselves. Amo...  \n",
       "2     Listen treat keep worry. Miss husband tax but ...  \n",
       "3     Finally month interesting blue could nature cu...  \n",
       "4     Nation purpose heavy give wait song will. List...  \n",
       "...                                                 ...  \n",
       "2788  Later hospital turn easy community. Fact same ...  \n",
       "2789   Change lose answer close pressure. Spend so now.  \n",
       "2790  Authority go who television entire hair guy po...  \n",
       "2791  Or western offer wonder ask. More hear phone f...  \n",
       "2792  Republican staff bit eat material measure plan...  \n",
       "\n",
       "[2793 rows x 4 columns]"
      ]
     },
     "execution_count": 15,
     "metadata": {},
     "output_type": "execute_result"
    }
   ],
   "source": [
    "reviews"
   ]
  },
  {
   "cell_type": "code",
   "execution_count": 16,
   "metadata": {},
   "outputs": [],
   "source": [
    "book_review ='''\n",
    "    SELECT \n",
    "        books.book_id as book_id,\n",
    "        books.title as title,\n",
    "        ROUND(AVG(ratings.rating)) as avg_rating,\n",
    "        COUNT(DISTINCT reviews.text) as qnt_reviews\n",
    "    FROM\n",
    "        books\n",
    "        LEFT JOIN ratings ON ratings.book_id = books.book_id\n",
    "        LEFT JOIN reviews ON reviews.book_id = books.book_id\n",
    "    GROUP BY\n",
    "        books.book_id,\n",
    "        books.title\n",
    "    ORDER BY\n",
    "        qnt_reviews DESC'''"
   ]
  },
  {
   "cell_type": "code",
   "execution_count": 17,
   "metadata": {
    "scrolled": true
   },
   "outputs": [
    {
     "data": {
      "text/html": [
       "<div>\n",
       "<style scoped>\n",
       "    .dataframe tbody tr th:only-of-type {\n",
       "        vertical-align: middle;\n",
       "    }\n",
       "\n",
       "    .dataframe tbody tr th {\n",
       "        vertical-align: top;\n",
       "    }\n",
       "\n",
       "    .dataframe thead th {\n",
       "        text-align: right;\n",
       "    }\n",
       "</style>\n",
       "<table border=\"1\" class=\"dataframe\">\n",
       "  <thead>\n",
       "    <tr style=\"text-align: right;\">\n",
       "      <th></th>\n",
       "      <th>book_id</th>\n",
       "      <th>title</th>\n",
       "      <th>avg_rating</th>\n",
       "      <th>qnt_reviews</th>\n",
       "    </tr>\n",
       "  </thead>\n",
       "  <tbody>\n",
       "    <tr>\n",
       "      <td>0</td>\n",
       "      <td>948</td>\n",
       "      <td>Twilight (Twilight  #1)</td>\n",
       "      <td>4.0</td>\n",
       "      <td>7</td>\n",
       "    </tr>\n",
       "    <tr>\n",
       "      <td>1</td>\n",
       "      <td>963</td>\n",
       "      <td>Water for Elephants</td>\n",
       "      <td>4.0</td>\n",
       "      <td>6</td>\n",
       "    </tr>\n",
       "    <tr>\n",
       "      <td>2</td>\n",
       "      <td>734</td>\n",
       "      <td>The Glass Castle</td>\n",
       "      <td>4.0</td>\n",
       "      <td>6</td>\n",
       "    </tr>\n",
       "    <tr>\n",
       "      <td>3</td>\n",
       "      <td>302</td>\n",
       "      <td>Harry Potter and the Prisoner of Azkaban (Harr...</td>\n",
       "      <td>4.0</td>\n",
       "      <td>6</td>\n",
       "    </tr>\n",
       "    <tr>\n",
       "      <td>4</td>\n",
       "      <td>695</td>\n",
       "      <td>The Curious Incident of the Dog in the Night-Time</td>\n",
       "      <td>4.0</td>\n",
       "      <td>6</td>\n",
       "    </tr>\n",
       "    <tr>\n",
       "      <td>...</td>\n",
       "      <td>...</td>\n",
       "      <td>...</td>\n",
       "      <td>...</td>\n",
       "      <td>...</td>\n",
       "    </tr>\n",
       "    <tr>\n",
       "      <td>995</td>\n",
       "      <td>83</td>\n",
       "      <td>Anne Rice's The Vampire Lestat: A Graphic Novel</td>\n",
       "      <td>4.0</td>\n",
       "      <td>0</td>\n",
       "    </tr>\n",
       "    <tr>\n",
       "      <td>996</td>\n",
       "      <td>808</td>\n",
       "      <td>The Natural Way to Draw</td>\n",
       "      <td>3.0</td>\n",
       "      <td>0</td>\n",
       "    </tr>\n",
       "    <tr>\n",
       "      <td>997</td>\n",
       "      <td>672</td>\n",
       "      <td>The Cat in the Hat and Other Dr. Seuss Favorites</td>\n",
       "      <td>5.0</td>\n",
       "      <td>0</td>\n",
       "    </tr>\n",
       "    <tr>\n",
       "      <td>998</td>\n",
       "      <td>221</td>\n",
       "      <td>Essential Tales and Poems</td>\n",
       "      <td>4.0</td>\n",
       "      <td>0</td>\n",
       "    </tr>\n",
       "    <tr>\n",
       "      <td>999</td>\n",
       "      <td>191</td>\n",
       "      <td>Disney's Beauty and the Beast (A Little Golden...</td>\n",
       "      <td>4.0</td>\n",
       "      <td>0</td>\n",
       "    </tr>\n",
       "  </tbody>\n",
       "</table>\n",
       "<p>1000 rows × 4 columns</p>\n",
       "</div>"
      ],
      "text/plain": [
       "     book_id                                              title  avg_rating  \\\n",
       "0        948                            Twilight (Twilight  #1)         4.0   \n",
       "1        963                                Water for Elephants         4.0   \n",
       "2        734                                   The Glass Castle         4.0   \n",
       "3        302  Harry Potter and the Prisoner of Azkaban (Harr...         4.0   \n",
       "4        695  The Curious Incident of the Dog in the Night-Time         4.0   \n",
       "..       ...                                                ...         ...   \n",
       "995       83    Anne Rice's The Vampire Lestat: A Graphic Novel         4.0   \n",
       "996      808                            The Natural Way to Draw         3.0   \n",
       "997      672   The Cat in the Hat and Other Dr. Seuss Favorites         5.0   \n",
       "998      221                          Essential Tales and Poems         4.0   \n",
       "999      191  Disney's Beauty and the Beast (A Little Golden...         4.0   \n",
       "\n",
       "     qnt_reviews  \n",
       "0              7  \n",
       "1              6  \n",
       "2              6  \n",
       "3              6  \n",
       "4              6  \n",
       "..           ...  \n",
       "995            0  \n",
       "996            0  \n",
       "997            0  \n",
       "998            0  \n",
       "999            0  \n",
       "\n",
       "[1000 rows x 4 columns]"
      ]
     },
     "execution_count": 17,
     "metadata": {},
     "output_type": "execute_result"
    }
   ],
   "source": [
    "pd.io.sql.read_sql(book_review, con = engine)"
   ]
  },
  {
   "cell_type": "markdown",
   "metadata": {},
   "source": [
    "Я вывел книги у которых самое большое количество отзывов. Чем больше отзывов тем объективней средняя оценка, есть книги где средняя оценка равна 5 но отзывов нет, а есть книги как \"Сумерки\" где 7 отзывов и средняя оценка 4."
   ]
  },
  {
   "cell_type": "markdown",
   "metadata": {},
   "source": [
    "<a id= 'four'></a>\n",
    "# Шаг 4. \n",
    "# Определить издательство, которое выпустило наибольшее число книг толще 50 страниц "
   ]
  },
  {
   "cell_type": "code",
   "execution_count": 18,
   "metadata": {},
   "outputs": [],
   "source": [
    "book_publisher ='''\n",
    "    SELECT \n",
    "        COUNT(books.book_id) as num_books,\n",
    "        publishers.publisher as publisher\n",
    "    FROM\n",
    "        books\n",
    "        INNER JOIN publishers ON publishers.publisher_id = books.publisher_id\n",
    "    WHERE\n",
    "        books.num_pages > 50\n",
    "    GROUP BY\n",
    "        publishers.publisher\n",
    "    ORDER BY\n",
    "        num_books DESC'''"
   ]
  },
  {
   "cell_type": "code",
   "execution_count": 19,
   "metadata": {},
   "outputs": [
    {
     "data": {
      "text/html": [
       "<div>\n",
       "<style scoped>\n",
       "    .dataframe tbody tr th:only-of-type {\n",
       "        vertical-align: middle;\n",
       "    }\n",
       "\n",
       "    .dataframe tbody tr th {\n",
       "        vertical-align: top;\n",
       "    }\n",
       "\n",
       "    .dataframe thead th {\n",
       "        text-align: right;\n",
       "    }\n",
       "</style>\n",
       "<table border=\"1\" class=\"dataframe\">\n",
       "  <thead>\n",
       "    <tr style=\"text-align: right;\">\n",
       "      <th></th>\n",
       "      <th>num_books</th>\n",
       "      <th>publisher</th>\n",
       "    </tr>\n",
       "  </thead>\n",
       "  <tbody>\n",
       "    <tr>\n",
       "      <td>0</td>\n",
       "      <td>42</td>\n",
       "      <td>Penguin Books</td>\n",
       "    </tr>\n",
       "    <tr>\n",
       "      <td>1</td>\n",
       "      <td>31</td>\n",
       "      <td>Vintage</td>\n",
       "    </tr>\n",
       "    <tr>\n",
       "      <td>2</td>\n",
       "      <td>25</td>\n",
       "      <td>Grand Central Publishing</td>\n",
       "    </tr>\n",
       "    <tr>\n",
       "      <td>3</td>\n",
       "      <td>24</td>\n",
       "      <td>Penguin Classics</td>\n",
       "    </tr>\n",
       "    <tr>\n",
       "      <td>4</td>\n",
       "      <td>19</td>\n",
       "      <td>Ballantine Books</td>\n",
       "    </tr>\n",
       "    <tr>\n",
       "      <td>...</td>\n",
       "      <td>...</td>\n",
       "      <td>...</td>\n",
       "    </tr>\n",
       "    <tr>\n",
       "      <td>329</td>\n",
       "      <td>1</td>\n",
       "      <td>Turtleback</td>\n",
       "    </tr>\n",
       "    <tr>\n",
       "      <td>330</td>\n",
       "      <td>1</td>\n",
       "      <td>Atheneum Books for Young Readers: Richard Jack...</td>\n",
       "    </tr>\n",
       "    <tr>\n",
       "      <td>331</td>\n",
       "      <td>1</td>\n",
       "      <td>Penguin Signet</td>\n",
       "    </tr>\n",
       "    <tr>\n",
       "      <td>332</td>\n",
       "      <td>1</td>\n",
       "      <td>Victor Gollancz</td>\n",
       "    </tr>\n",
       "    <tr>\n",
       "      <td>333</td>\n",
       "      <td>1</td>\n",
       "      <td>Harvard Business Review Press</td>\n",
       "    </tr>\n",
       "  </tbody>\n",
       "</table>\n",
       "<p>334 rows × 2 columns</p>\n",
       "</div>"
      ],
      "text/plain": [
       "     num_books                                          publisher\n",
       "0           42                                      Penguin Books\n",
       "1           31                                            Vintage\n",
       "2           25                           Grand Central Publishing\n",
       "3           24                                   Penguin Classics\n",
       "4           19                                   Ballantine Books\n",
       "..         ...                                                ...\n",
       "329          1                                         Turtleback\n",
       "330          1  Atheneum Books for Young Readers: Richard Jack...\n",
       "331          1                                     Penguin Signet\n",
       "332          1                                    Victor Gollancz\n",
       "333          1                      Harvard Business Review Press\n",
       "\n",
       "[334 rows x 2 columns]"
      ]
     },
     "execution_count": 19,
     "metadata": {},
     "output_type": "execute_result"
    }
   ],
   "source": [
    "pd.io.sql.read_sql(book_publisher, con = engine)"
   ]
  },
  {
   "cell_type": "markdown",
   "metadata": {},
   "source": [
    "Самым успешным издетельством  в плане издательства книг это \"Penguin Books\". Таким образом, лучше всего сотрудничать с этим издательством."
   ]
  },
  {
   "cell_type": "markdown",
   "metadata": {},
   "source": [
    "<a id= 'five'></a>\n",
    "# Шаг 5. \n",
    "# Определить автора с самой высокой средней оценкой книг"
   ]
  },
  {
   "cell_type": "code",
   "execution_count": 20,
   "metadata": {},
   "outputs": [],
   "source": [
    "book_author ='''\n",
    "    SELECT \n",
    "        authors.author as author,\n",
    "        AVG(DF.avg_rating) as avg_rating,\n",
    "        COUNT(DF.qnt_rating) as qnt_rating\n",
    "    FROM\n",
    "        books\n",
    "        INNER JOIN(\n",
    "            SELECT\n",
    "                book_id as book_id,\n",
    "                COUNT( DISTINCT ratings.rating_id) as qnt_rating,\n",
    "                AVG(rating) as avg_rating\n",
    "            FROM\n",
    "                ratings\n",
    "            GROUP BY\n",
    "                book_id\n",
    "            HAVING\n",
    "                COUNT(ratings.rating_id) >= 50) AS DF ON DF.book_id = books.book_id\n",
    "\n",
    "        INNER JOIN authors ON authors.author_id = books.author_id\n",
    "    GROUP BY\n",
    "        author\n",
    "    ORDER BY\n",
    "        avg_rating DESC\n",
    "    LIMIT\n",
    "        25\n",
    "    '''"
   ]
  },
  {
   "cell_type": "code",
   "execution_count": 21,
   "metadata": {},
   "outputs": [
    {
     "data": {
      "text/html": [
       "<div>\n",
       "<style scoped>\n",
       "    .dataframe tbody tr th:only-of-type {\n",
       "        vertical-align: middle;\n",
       "    }\n",
       "\n",
       "    .dataframe tbody tr th {\n",
       "        vertical-align: top;\n",
       "    }\n",
       "\n",
       "    .dataframe thead th {\n",
       "        text-align: right;\n",
       "    }\n",
       "</style>\n",
       "<table border=\"1\" class=\"dataframe\">\n",
       "  <thead>\n",
       "    <tr style=\"text-align: right;\">\n",
       "      <th></th>\n",
       "      <th>author</th>\n",
       "      <th>avg_rating</th>\n",
       "      <th>qnt_rating</th>\n",
       "    </tr>\n",
       "  </thead>\n",
       "  <tbody>\n",
       "    <tr>\n",
       "      <td>0</td>\n",
       "      <td>J.K. Rowling/Mary GrandPré</td>\n",
       "      <td>4.283844</td>\n",
       "      <td>4</td>\n",
       "    </tr>\n",
       "    <tr>\n",
       "      <td>1</td>\n",
       "      <td>Markus Zusak/Cao Xuân Việt Khương</td>\n",
       "      <td>4.264151</td>\n",
       "      <td>1</td>\n",
       "    </tr>\n",
       "    <tr>\n",
       "      <td>2</td>\n",
       "      <td>J.R.R. Tolkien</td>\n",
       "      <td>4.258446</td>\n",
       "      <td>2</td>\n",
       "    </tr>\n",
       "    <tr>\n",
       "      <td>3</td>\n",
       "      <td>Louisa May Alcott</td>\n",
       "      <td>4.192308</td>\n",
       "      <td>1</td>\n",
       "    </tr>\n",
       "    <tr>\n",
       "      <td>4</td>\n",
       "      <td>Rick Riordan</td>\n",
       "      <td>4.080645</td>\n",
       "      <td>1</td>\n",
       "    </tr>\n",
       "    <tr>\n",
       "      <td>5</td>\n",
       "      <td>William Golding</td>\n",
       "      <td>3.901408</td>\n",
       "      <td>1</td>\n",
       "    </tr>\n",
       "    <tr>\n",
       "      <td>6</td>\n",
       "      <td>J.D. Salinger</td>\n",
       "      <td>3.825581</td>\n",
       "      <td>1</td>\n",
       "    </tr>\n",
       "    <tr>\n",
       "      <td>7</td>\n",
       "      <td>Paulo Coelho/Alan R. Clarke/Özdemir İnce</td>\n",
       "      <td>3.789474</td>\n",
       "      <td>1</td>\n",
       "    </tr>\n",
       "    <tr>\n",
       "      <td>8</td>\n",
       "      <td>William Shakespeare/Paul Werstine/Barbara A. M...</td>\n",
       "      <td>3.787879</td>\n",
       "      <td>1</td>\n",
       "    </tr>\n",
       "    <tr>\n",
       "      <td>9</td>\n",
       "      <td>Dan Brown</td>\n",
       "      <td>3.754540</td>\n",
       "      <td>2</td>\n",
       "    </tr>\n",
       "    <tr>\n",
       "      <td>10</td>\n",
       "      <td>Lois Lowry</td>\n",
       "      <td>3.750000</td>\n",
       "      <td>1</td>\n",
       "    </tr>\n",
       "    <tr>\n",
       "      <td>11</td>\n",
       "      <td>George Orwell/Boris Grabnar/Peter Škerl</td>\n",
       "      <td>3.729730</td>\n",
       "      <td>1</td>\n",
       "    </tr>\n",
       "    <tr>\n",
       "      <td>12</td>\n",
       "      <td>Stephenie Meyer</td>\n",
       "      <td>3.662500</td>\n",
       "      <td>1</td>\n",
       "    </tr>\n",
       "    <tr>\n",
       "      <td>13</td>\n",
       "      <td>John Steinbeck</td>\n",
       "      <td>3.622951</td>\n",
       "      <td>1</td>\n",
       "    </tr>\n",
       "  </tbody>\n",
       "</table>\n",
       "</div>"
      ],
      "text/plain": [
       "                                               author  avg_rating  qnt_rating\n",
       "0                          J.K. Rowling/Mary GrandPré    4.283844           4\n",
       "1                   Markus Zusak/Cao Xuân Việt Khương    4.264151           1\n",
       "2                                      J.R.R. Tolkien    4.258446           2\n",
       "3                                   Louisa May Alcott    4.192308           1\n",
       "4                                        Rick Riordan    4.080645           1\n",
       "5                                     William Golding    3.901408           1\n",
       "6                                       J.D. Salinger    3.825581           1\n",
       "7            Paulo Coelho/Alan R. Clarke/Özdemir İnce    3.789474           1\n",
       "8   William Shakespeare/Paul Werstine/Barbara A. M...    3.787879           1\n",
       "9                                           Dan Brown    3.754540           2\n",
       "10                                         Lois Lowry    3.750000           1\n",
       "11            George Orwell/Boris Grabnar/Peter Škerl    3.729730           1\n",
       "12                                    Stephenie Meyer    3.662500           1\n",
       "13                                     John Steinbeck    3.622951           1"
      ]
     },
     "execution_count": 21,
     "metadata": {},
     "output_type": "execute_result"
    }
   ],
   "source": [
    "pd.io.sql.read_sql(book_author, con = engine)"
   ]
  },
  {
   "cell_type": "markdown",
   "metadata": {},
   "source": [
    "Вывел всех писателей у которых книги набрали более 50ти оценок и у всех оказалась средняя оценка около 4. Я решил распределить писателей по средней оценке, где на первом месте оказались J.K. Rowling/Mary GrandPré. Чем больше оценок тем объективней будет средняя оценка."
   ]
  },
  {
   "cell_type": "markdown",
   "metadata": {},
   "source": [
    "<a id= 'six'></a>\n",
    "# Шаг 6. \n",
    "# Посчитать среднее количество обзоров от пользователей  которые поставили больше 50 оценок"
   ]
  },
  {
   "cell_type": "code",
   "execution_count": 22,
   "metadata": {},
   "outputs": [],
   "source": [
    "user_review ='''\n",
    "    SELECT \n",
    "        ROUND(AVG(subquery.qnt_reviews)) as avg_reviews\n",
    "        \n",
    "    FROM\n",
    "        ratings\n",
    "        LEFT JOIN(\n",
    "            SELECT\n",
    "                COUNT(review_id) as qnt_reviews,\n",
    "                username as username\n",
    "            FROM\n",
    "                reviews\n",
    "            GROUP BY\n",
    "                username\n",
    "                ) AS subquery ON subquery.username = ratings.username\n",
    "    HAVING\n",
    "        COUNT(ratings.rating_id) > 50\n",
    "    LIMIT\n",
    "        10\n",
    "    '''"
   ]
  },
  {
   "cell_type": "code",
   "execution_count": 23,
   "metadata": {
    "scrolled": true
   },
   "outputs": [
    {
     "data": {
      "text/html": [
       "<div>\n",
       "<style scoped>\n",
       "    .dataframe tbody tr th:only-of-type {\n",
       "        vertical-align: middle;\n",
       "    }\n",
       "\n",
       "    .dataframe tbody tr th {\n",
       "        vertical-align: top;\n",
       "    }\n",
       "\n",
       "    .dataframe thead th {\n",
       "        text-align: right;\n",
       "    }\n",
       "</style>\n",
       "<table border=\"1\" class=\"dataframe\">\n",
       "  <thead>\n",
       "    <tr style=\"text-align: right;\">\n",
       "      <th></th>\n",
       "      <th>avg_reviews</th>\n",
       "    </tr>\n",
       "  </thead>\n",
       "  <tbody>\n",
       "    <tr>\n",
       "      <td>0</td>\n",
       "      <td>18.0</td>\n",
       "    </tr>\n",
       "  </tbody>\n",
       "</table>\n",
       "</div>"
      ],
      "text/plain": [
       "   avg_reviews\n",
       "0         18.0"
      ]
     },
     "execution_count": 23,
     "metadata": {},
     "output_type": "execute_result"
    }
   ],
   "source": [
    "pd.io.sql.read_sql(user_review, con = engine)"
   ]
  },
  {
   "cell_type": "markdown",
   "metadata": {},
   "source": [
    "Среднее количество обзоров от пользователей которые поставили больше 50 оценок равна 18."
   ]
  },
  {
   "cell_type": "markdown",
   "metadata": {},
   "source": [
    "<a id= 'seven'></a>\n",
    "# Общий Вывод"
   ]
  },
  {
   "cell_type": "markdown",
   "metadata": {},
   "source": [
    "После анализа данных с книгами можно выделить следующие моменты:\n",
    "\n",
    "- Я смог подсчитать количество выведших книг после 2000 года\n",
    "- Теперь можно увидеть какие книги стоит в первую очередь предлагать новым клиентом, так как они являются самыми популярными в нашей базе\n",
    "- В дальнейшем стоит сотрудничать с такими издательствами как Penguin Books и Vintage\n",
    "- Теперь есть список самых высоко оцененных писателей.\n",
    "\n",
    "Эти все данные должны помочь в формировании предложения для новых пользователей, и выбрать для них наиболее популярные и высоко оцененные книги."
   ]
  },
  {
   "cell_type": "markdown",
   "metadata": {},
   "source": [
    "[Наверх](#nine)<a id= 'eight'></a>"
   ]
  }
 ],
 "metadata": {
  "ExecuteTimeLog": [
   {
    "duration": 729,
    "start_time": "2021-09-16T11:27:21.276Z"
   },
   {
    "duration": 128,
    "start_time": "2021-09-16T11:29:29.146Z"
   },
   {
    "duration": 1051,
    "start_time": "2021-09-16T16:27:55.149Z"
   },
   {
    "duration": 98,
    "start_time": "2021-09-16T16:28:20.551Z"
   },
   {
    "duration": 47,
    "start_time": "2021-09-16T16:29:49.985Z"
   },
   {
    "duration": 600,
    "start_time": "2021-09-16T16:30:06.325Z"
   },
   {
    "duration": 354,
    "start_time": "2021-09-16T16:30:41.514Z"
   },
   {
    "duration": 3,
    "start_time": "2021-09-16T16:38:47.967Z"
   },
   {
    "duration": 412,
    "start_time": "2021-09-16T16:38:49.005Z"
   },
   {
    "duration": 4,
    "start_time": "2021-09-16T16:39:39.532Z"
   },
   {
    "duration": 464,
    "start_time": "2021-09-16T16:39:41.013Z"
   },
   {
    "duration": 275,
    "start_time": "2021-09-16T16:40:39.821Z"
   },
   {
    "duration": 420,
    "start_time": "2021-09-16T16:41:20.543Z"
   },
   {
    "duration": 427,
    "start_time": "2021-09-16T16:41:56.610Z"
   },
   {
    "duration": 84,
    "start_time": "2021-09-16T16:42:01.394Z"
   },
   {
    "duration": 355,
    "start_time": "2021-09-16T16:42:02.617Z"
   },
   {
    "duration": 27,
    "start_time": "2021-09-16T16:42:10.203Z"
   },
   {
    "duration": 82,
    "start_time": "2021-09-16T16:42:33.884Z"
   },
   {
    "duration": 427,
    "start_time": "2021-09-16T16:42:49.552Z"
   },
   {
    "duration": 23,
    "start_time": "2021-09-16T16:42:52.957Z"
   },
   {
    "duration": 4,
    "start_time": "2021-09-16T16:43:41.485Z"
   },
   {
    "duration": 83,
    "start_time": "2021-09-16T16:43:41.889Z"
   },
   {
    "duration": 173,
    "start_time": "2021-09-16T16:43:42.335Z"
   },
   {
    "duration": 22,
    "start_time": "2021-09-16T16:43:42.797Z"
   },
   {
    "duration": 231,
    "start_time": "2021-09-16T16:44:57.261Z"
   },
   {
    "duration": 12,
    "start_time": "2021-09-16T16:44:57.989Z"
   },
   {
    "duration": 609,
    "start_time": "2021-09-16T16:45:20.078Z"
   },
   {
    "duration": 21,
    "start_time": "2021-09-16T16:45:25.143Z"
   },
   {
    "duration": 530,
    "start_time": "2021-09-16T16:45:58.276Z"
   },
   {
    "duration": 15,
    "start_time": "2021-09-16T16:45:59.459Z"
   },
   {
    "duration": 10,
    "start_time": "2021-09-16T16:46:39.953Z"
   },
   {
    "duration": 6,
    "start_time": "2021-09-16T16:47:30.981Z"
   },
   {
    "duration": 9,
    "start_time": "2021-09-16T16:48:17.892Z"
   },
   {
    "duration": 9,
    "start_time": "2021-09-16T16:48:37.583Z"
   },
   {
    "duration": 9,
    "start_time": "2021-09-16T16:48:50.286Z"
   },
   {
    "duration": 678,
    "start_time": "2021-09-18T14:43:46.845Z"
   },
   {
    "duration": 28,
    "start_time": "2021-09-18T14:43:47.525Z"
   },
   {
    "duration": 3,
    "start_time": "2021-09-18T14:43:47.554Z"
   },
   {
    "duration": 260,
    "start_time": "2021-09-18T14:43:47.559Z"
   },
   {
    "duration": 84,
    "start_time": "2021-09-18T14:43:47.821Z"
   },
   {
    "duration": 65,
    "start_time": "2021-09-18T14:43:47.907Z"
   },
   {
    "duration": 13,
    "start_time": "2021-09-18T14:43:47.973Z"
   },
   {
    "duration": 10,
    "start_time": "2021-09-18T14:43:47.989Z"
   },
   {
    "duration": 137,
    "start_time": "2021-09-18T14:43:48.001Z"
   },
   {
    "duration": 8,
    "start_time": "2021-09-18T14:43:48.140Z"
   },
   {
    "duration": 7,
    "start_time": "2021-09-18T14:43:48.150Z"
   },
   {
    "duration": 195,
    "start_time": "2021-09-18T14:43:48.158Z"
   },
   {
    "duration": 10,
    "start_time": "2021-09-18T14:43:48.355Z"
   },
   {
    "duration": 8,
    "start_time": "2021-09-18T14:43:48.367Z"
   },
   {
    "duration": 175,
    "start_time": "2021-09-18T14:43:48.377Z"
   },
   {
    "duration": 9,
    "start_time": "2021-09-18T14:43:48.554Z"
   },
   {
    "duration": 7,
    "start_time": "2021-09-18T14:43:48.565Z"
   },
   {
    "duration": 273,
    "start_time": "2021-09-18T14:43:48.574Z"
   },
   {
    "duration": 57,
    "start_time": "2021-09-18T14:45:05.348Z"
   },
   {
    "duration": 63,
    "start_time": "2021-09-18T14:45:56.323Z"
   },
   {
    "duration": 58,
    "start_time": "2021-09-18T14:46:39.766Z"
   },
   {
    "duration": 3,
    "start_time": "2021-09-18T14:49:10.234Z"
   },
   {
    "duration": 3,
    "start_time": "2021-09-18T14:49:25.912Z"
   },
   {
    "duration": 53,
    "start_time": "2021-09-18T14:50:10.292Z"
   },
   {
    "duration": 4,
    "start_time": "2021-09-18T14:50:19.053Z"
   },
   {
    "duration": 3,
    "start_time": "2021-09-18T14:50:32.136Z"
   },
   {
    "duration": 668,
    "start_time": "2021-09-18T14:51:41.243Z"
   },
   {
    "duration": 26,
    "start_time": "2021-09-18T14:51:41.912Z"
   },
   {
    "duration": 3,
    "start_time": "2021-09-18T14:51:41.940Z"
   },
   {
    "duration": 270,
    "start_time": "2021-09-18T14:51:41.944Z"
   },
   {
    "duration": 3,
    "start_time": "2021-09-18T14:51:42.215Z"
   },
   {
    "duration": 67,
    "start_time": "2021-09-18T14:51:42.219Z"
   },
   {
    "duration": 6,
    "start_time": "2021-09-18T14:51:42.287Z"
   },
   {
    "duration": 5,
    "start_time": "2021-09-18T14:51:42.295Z"
   },
   {
    "duration": 136,
    "start_time": "2021-09-18T14:51:42.301Z"
   },
   {
    "duration": 8,
    "start_time": "2021-09-18T14:51:42.439Z"
   },
   {
    "duration": 6,
    "start_time": "2021-09-18T14:51:42.448Z"
   },
   {
    "duration": 196,
    "start_time": "2021-09-18T14:51:42.456Z"
   },
   {
    "duration": 10,
    "start_time": "2021-09-18T14:51:42.654Z"
   },
   {
    "duration": 6,
    "start_time": "2021-09-18T14:51:42.665Z"
   },
   {
    "duration": 164,
    "start_time": "2021-09-18T14:51:42.672Z"
   },
   {
    "duration": 9,
    "start_time": "2021-09-18T14:51:42.838Z"
   },
   {
    "duration": 8,
    "start_time": "2021-09-18T14:51:42.848Z"
   },
   {
    "duration": 4,
    "start_time": "2021-09-18T14:51:42.857Z"
   },
   {
    "duration": 53,
    "start_time": "2021-09-18T14:51:47.456Z"
   },
   {
    "duration": 58,
    "start_time": "2021-09-18T14:52:00.908Z"
   },
   {
    "duration": 64,
    "start_time": "2021-09-18T14:53:46.378Z"
   },
   {
    "duration": 59,
    "start_time": "2021-09-18T14:53:56.744Z"
   },
   {
    "duration": 69,
    "start_time": "2021-09-18T14:57:37.526Z"
   },
   {
    "duration": 2,
    "start_time": "2021-09-18T14:57:54.902Z"
   },
   {
    "duration": 3,
    "start_time": "2021-09-18T14:57:58.300Z"
   },
   {
    "duration": 272,
    "start_time": "2021-09-18T14:58:23.191Z"
   },
   {
    "duration": 3,
    "start_time": "2021-09-18T14:58:25.664Z"
   },
   {
    "duration": 245,
    "start_time": "2021-09-18T14:58:26.086Z"
   },
   {
    "duration": 54,
    "start_time": "2021-09-18T14:58:49.195Z"
   },
   {
    "duration": 77,
    "start_time": "2021-09-18T14:58:52.637Z"
   },
   {
    "duration": 2,
    "start_time": "2021-09-18T14:58:58.267Z"
   },
   {
    "duration": 69,
    "start_time": "2021-09-18T14:58:59.596Z"
   },
   {
    "duration": 2,
    "start_time": "2021-09-18T14:59:44.991Z"
   },
   {
    "duration": 67,
    "start_time": "2021-09-18T14:59:45.373Z"
   },
   {
    "duration": 3,
    "start_time": "2021-09-18T14:59:52.704Z"
   },
   {
    "duration": 66,
    "start_time": "2021-09-18T14:59:53.065Z"
   },
   {
    "duration": 2,
    "start_time": "2021-09-18T15:00:47.699Z"
   },
   {
    "duration": 68,
    "start_time": "2021-09-18T15:00:48.158Z"
   },
   {
    "duration": 4,
    "start_time": "2021-09-18T15:13:32.587Z"
   },
   {
    "duration": 991,
    "start_time": "2021-09-18T15:13:43.687Z"
   },
   {
    "duration": 28,
    "start_time": "2021-09-18T15:13:44.680Z"
   },
   {
    "duration": 3,
    "start_time": "2021-09-18T15:13:44.709Z"
   },
   {
    "duration": 275,
    "start_time": "2021-09-18T15:13:44.713Z"
   },
   {
    "duration": 88,
    "start_time": "2021-09-18T15:13:44.989Z"
   },
   {
    "duration": 69,
    "start_time": "2021-09-18T15:13:45.079Z"
   },
   {
    "duration": 6,
    "start_time": "2021-09-18T15:13:45.150Z"
   },
   {
    "duration": 6,
    "start_time": "2021-09-18T15:13:45.157Z"
   },
   {
    "duration": 497,
    "start_time": "2021-09-18T15:13:45.166Z"
   },
   {
    "duration": 8,
    "start_time": "2021-09-18T15:13:45.665Z"
   },
   {
    "duration": 8,
    "start_time": "2021-09-18T15:13:45.674Z"
   },
   {
    "duration": 216,
    "start_time": "2021-09-18T15:13:45.684Z"
   },
   {
    "duration": 10,
    "start_time": "2021-09-18T15:13:45.902Z"
   },
   {
    "duration": 8,
    "start_time": "2021-09-18T15:13:45.914Z"
   },
   {
    "duration": 177,
    "start_time": "2021-09-18T15:13:45.923Z"
   },
   {
    "duration": 10,
    "start_time": "2021-09-18T15:13:46.102Z"
   },
   {
    "duration": 9,
    "start_time": "2021-09-18T15:13:46.114Z"
   },
   {
    "duration": 8,
    "start_time": "2021-09-18T15:13:46.125Z"
   },
   {
    "duration": 72,
    "start_time": "2021-09-18T15:13:46.135Z"
   },
   {
    "duration": 13,
    "start_time": "2021-09-18T15:13:46.208Z"
   },
   {
    "duration": 4,
    "start_time": "2021-09-18T15:13:46.222Z"
   },
   {
    "duration": 11,
    "start_time": "2021-09-18T15:15:55.760Z"
   },
   {
    "duration": 9,
    "start_time": "2021-09-18T15:17:15.251Z"
   },
   {
    "duration": 3,
    "start_time": "2021-09-18T15:22:44.907Z"
   },
   {
    "duration": 321,
    "start_time": "2021-09-18T15:22:57.218Z"
   },
   {
    "duration": 2,
    "start_time": "2021-09-18T15:23:10.238Z"
   },
   {
    "duration": 240,
    "start_time": "2021-09-18T15:23:10.788Z"
   },
   {
    "duration": 2,
    "start_time": "2021-09-18T15:24:12.903Z"
   },
   {
    "duration": 107,
    "start_time": "2021-09-18T15:24:13.433Z"
   },
   {
    "duration": 3,
    "start_time": "2021-09-18T15:25:31.235Z"
   },
   {
    "duration": 106,
    "start_time": "2021-09-18T15:25:31.600Z"
   },
   {
    "duration": 3,
    "start_time": "2021-09-18T15:26:13.552Z"
   },
   {
    "duration": 244,
    "start_time": "2021-09-18T15:26:14.906Z"
   },
   {
    "duration": 3,
    "start_time": "2021-09-18T15:26:28.495Z"
   },
   {
    "duration": 107,
    "start_time": "2021-09-18T15:26:29.170Z"
   },
   {
    "duration": 2,
    "start_time": "2021-09-18T15:26:41.592Z"
   },
   {
    "duration": 107,
    "start_time": "2021-09-18T15:26:41.919Z"
   },
   {
    "duration": 3,
    "start_time": "2021-09-18T15:26:47.180Z"
   },
   {
    "duration": 241,
    "start_time": "2021-09-18T15:26:48.050Z"
   },
   {
    "duration": 3,
    "start_time": "2021-09-18T15:28:22.282Z"
   },
   {
    "duration": 107,
    "start_time": "2021-09-18T15:28:22.526Z"
   },
   {
    "duration": 3,
    "start_time": "2021-09-19T11:03:26.994Z"
   },
   {
    "duration": 742,
    "start_time": "2021-09-19T11:03:41.929Z"
   },
   {
    "duration": 31,
    "start_time": "2021-09-19T11:03:42.673Z"
   },
   {
    "duration": 3,
    "start_time": "2021-09-19T11:03:42.711Z"
   },
   {
    "duration": 290,
    "start_time": "2021-09-19T11:03:42.717Z"
   },
   {
    "duration": 81,
    "start_time": "2021-09-19T11:03:43.010Z"
   },
   {
    "duration": 73,
    "start_time": "2021-09-19T11:03:43.093Z"
   },
   {
    "duration": 6,
    "start_time": "2021-09-19T11:03:43.168Z"
   },
   {
    "duration": 7,
    "start_time": "2021-09-19T11:03:43.176Z"
   },
   {
    "duration": 718,
    "start_time": "2021-09-19T11:03:43.184Z"
   },
   {
    "duration": 13,
    "start_time": "2021-09-19T11:03:43.905Z"
   },
   {
    "duration": 7,
    "start_time": "2021-09-19T11:03:43.920Z"
   },
   {
    "duration": 259,
    "start_time": "2021-09-19T11:03:43.931Z"
   },
   {
    "duration": 16,
    "start_time": "2021-09-19T11:03:44.192Z"
   },
   {
    "duration": 12,
    "start_time": "2021-09-19T11:03:44.211Z"
   },
   {
    "duration": 174,
    "start_time": "2021-09-19T11:03:44.225Z"
   },
   {
    "duration": 14,
    "start_time": "2021-09-19T11:03:44.402Z"
   },
   {
    "duration": 6,
    "start_time": "2021-09-19T11:03:44.418Z"
   },
   {
    "duration": 3,
    "start_time": "2021-09-19T11:03:44.426Z"
   },
   {
    "duration": 77,
    "start_time": "2021-09-19T11:03:44.431Z"
   },
   {
    "duration": 12,
    "start_time": "2021-09-19T11:03:44.510Z"
   },
   {
    "duration": 4,
    "start_time": "2021-09-19T11:03:44.524Z"
   },
   {
    "duration": 90,
    "start_time": "2021-09-19T11:03:44.530Z"
   },
   {
    "duration": 2,
    "start_time": "2021-09-19T11:03:44.624Z"
   },
   {
    "duration": 323,
    "start_time": "2021-09-19T11:03:44.628Z"
   },
   {
    "duration": 2,
    "start_time": "2021-09-19T11:05:38.589Z"
   },
   {
    "duration": 250,
    "start_time": "2021-09-19T11:05:39.129Z"
   },
   {
    "duration": 2,
    "start_time": "2021-09-19T11:06:15.285Z"
   },
   {
    "duration": 251,
    "start_time": "2021-09-19T11:06:15.722Z"
   },
   {
    "duration": 2,
    "start_time": "2021-09-19T11:06:23.884Z"
   },
   {
    "duration": 257,
    "start_time": "2021-09-19T11:06:24.269Z"
   },
   {
    "duration": 2,
    "start_time": "2021-09-19T11:06:37.083Z"
   },
   {
    "duration": 74,
    "start_time": "2021-09-19T11:06:37.564Z"
   },
   {
    "duration": 1089,
    "start_time": "2021-09-19T12:31:02.138Z"
   },
   {
    "duration": 46,
    "start_time": "2021-09-19T12:31:03.230Z"
   },
   {
    "duration": 3,
    "start_time": "2021-09-19T12:31:03.280Z"
   },
   {
    "duration": 209,
    "start_time": "2021-09-19T12:31:03.287Z"
   },
   {
    "duration": 206,
    "start_time": "2021-09-19T12:31:03.498Z"
   },
   {
    "duration": 83,
    "start_time": "2021-09-19T12:31:03.706Z"
   },
   {
    "duration": 31,
    "start_time": "2021-09-19T12:31:03.791Z"
   },
   {
    "duration": 28,
    "start_time": "2021-09-19T12:31:03.824Z"
   },
   {
    "duration": 202,
    "start_time": "2021-09-19T12:31:03.856Z"
   },
   {
    "duration": 12,
    "start_time": "2021-09-19T12:31:04.061Z"
   },
   {
    "duration": 12,
    "start_time": "2021-09-19T12:31:04.076Z"
   },
   {
    "duration": 275,
    "start_time": "2021-09-19T12:31:04.091Z"
   },
   {
    "duration": 16,
    "start_time": "2021-09-19T12:31:04.368Z"
   },
   {
    "duration": 10,
    "start_time": "2021-09-19T12:31:04.386Z"
   },
   {
    "duration": 234,
    "start_time": "2021-09-19T12:31:04.398Z"
   },
   {
    "duration": 14,
    "start_time": "2021-09-19T12:31:04.635Z"
   },
   {
    "duration": 15,
    "start_time": "2021-09-19T12:31:04.651Z"
   },
   {
    "duration": 26,
    "start_time": "2021-09-19T12:31:04.669Z"
   },
   {
    "duration": 62,
    "start_time": "2021-09-19T12:31:04.697Z"
   },
   {
    "duration": 14,
    "start_time": "2021-09-19T12:31:04.761Z"
   },
   {
    "duration": 8,
    "start_time": "2021-09-19T12:31:04.777Z"
   },
   {
    "duration": 83,
    "start_time": "2021-09-19T12:31:04.788Z"
   },
   {
    "duration": 4,
    "start_time": "2021-09-19T12:31:04.874Z"
   },
   {
    "duration": 64,
    "start_time": "2021-09-19T12:31:04.881Z"
   },
   {
    "duration": 4,
    "start_time": "2021-09-19T12:31:04.948Z"
   },
   {
    "duration": 4,
    "start_time": "2021-09-19T12:34:03.876Z"
   },
   {
    "duration": 514,
    "start_time": "2021-09-19T12:34:08.991Z"
   },
   {
    "duration": 3,
    "start_time": "2021-09-19T12:34:16.517Z"
   },
   {
    "duration": 76,
    "start_time": "2021-09-19T12:34:17.077Z"
   },
   {
    "duration": 3,
    "start_time": "2021-09-19T12:34:33.729Z"
   },
   {
    "duration": 62,
    "start_time": "2021-09-19T12:34:34.127Z"
   },
   {
    "duration": 3,
    "start_time": "2021-09-19T12:43:25.240Z"
   },
   {
    "duration": 1878,
    "start_time": "2021-09-19T12:43:35.860Z"
   },
   {
    "duration": 3,
    "start_time": "2021-09-19T12:43:45.898Z"
   },
   {
    "duration": 961,
    "start_time": "2021-09-19T12:43:46.294Z"
   },
   {
    "duration": 3,
    "start_time": "2021-09-19T12:44:11.022Z"
   },
   {
    "duration": 412,
    "start_time": "2021-09-19T12:44:11.688Z"
   },
   {
    "duration": 4,
    "start_time": "2021-09-19T12:44:30.173Z"
   },
   {
    "duration": 878,
    "start_time": "2021-09-19T12:44:30.961Z"
   },
   {
    "duration": 5,
    "start_time": "2021-09-19T12:45:00.715Z"
   },
   {
    "duration": 2215,
    "start_time": "2021-09-19T12:45:01.181Z"
   },
   {
    "duration": 5,
    "start_time": "2021-09-19T12:46:36.233Z"
   },
   {
    "duration": 495,
    "start_time": "2021-09-19T12:46:36.716Z"
   },
   {
    "duration": 14,
    "start_time": "2021-09-19T12:47:01.041Z"
   },
   {
    "duration": 3,
    "start_time": "2021-09-19T12:48:40.811Z"
   },
   {
    "duration": 57,
    "start_time": "2021-09-19T12:48:41.266Z"
   },
   {
    "duration": 4,
    "start_time": "2021-09-19T12:49:26.728Z"
   },
   {
    "duration": 434,
    "start_time": "2021-09-19T12:49:27.386Z"
   },
   {
    "duration": 4,
    "start_time": "2021-09-19T12:52:41.675Z"
   },
   {
    "duration": 515,
    "start_time": "2021-09-19T12:52:42.167Z"
   },
   {
    "duration": 4,
    "start_time": "2021-09-19T12:53:24.433Z"
   },
   {
    "duration": 3,
    "start_time": "2021-09-19T12:53:28.051Z"
   },
   {
    "duration": 396,
    "start_time": "2021-09-19T12:53:28.482Z"
   },
   {
    "duration": 3,
    "start_time": "2021-09-19T12:59:18.629Z"
   },
   {
    "duration": 60,
    "start_time": "2021-09-19T12:59:19.120Z"
   },
   {
    "duration": 4,
    "start_time": "2021-09-19T12:59:46.649Z"
   },
   {
    "duration": 58,
    "start_time": "2021-09-19T12:59:47.077Z"
   },
   {
    "duration": 4,
    "start_time": "2021-09-19T12:59:53.062Z"
   },
   {
    "duration": 59,
    "start_time": "2021-09-19T12:59:53.427Z"
   },
   {
    "duration": 4,
    "start_time": "2021-09-19T13:16:33.612Z"
   },
   {
    "duration": 424,
    "start_time": "2021-09-19T13:16:34.058Z"
   },
   {
    "duration": 4,
    "start_time": "2021-09-19T13:16:37.895Z"
   },
   {
    "duration": 5025,
    "start_time": "2021-09-19T13:16:38.197Z"
   },
   {
    "duration": 3,
    "start_time": "2021-09-19T13:27:13.933Z"
   },
   {
    "duration": 587,
    "start_time": "2021-09-19T13:27:14.616Z"
   },
   {
    "duration": 16,
    "start_time": "2021-09-19T13:30:45.460Z"
   },
   {
    "duration": 4,
    "start_time": "2021-09-19T13:31:52.208Z"
   },
   {
    "duration": 414,
    "start_time": "2021-09-19T13:31:52.660Z"
   },
   {
    "duration": 3,
    "start_time": "2021-09-19T13:32:06.648Z"
   },
   {
    "duration": 80,
    "start_time": "2021-09-19T13:32:07.179Z"
   },
   {
    "duration": 3,
    "start_time": "2021-09-19T13:35:05.024Z"
   },
   {
    "duration": 389,
    "start_time": "2021-09-19T13:35:05.671Z"
   },
   {
    "duration": 3,
    "start_time": "2021-09-19T13:35:41.528Z"
   },
   {
    "duration": 65,
    "start_time": "2021-09-19T13:35:42.219Z"
   },
   {
    "duration": 3,
    "start_time": "2021-09-19T13:41:39.959Z"
   },
   {
    "duration": 404,
    "start_time": "2021-09-19T13:41:43.202Z"
   },
   {
    "duration": 3,
    "start_time": "2021-09-19T13:42:07.922Z"
   },
   {
    "duration": 65,
    "start_time": "2021-09-19T13:42:08.661Z"
   },
   {
    "duration": 3,
    "start_time": "2021-09-19T13:42:38.826Z"
   },
   {
    "duration": 420,
    "start_time": "2021-09-19T13:42:39.432Z"
   },
   {
    "duration": 4,
    "start_time": "2021-09-19T13:43:17.198Z"
   },
   {
    "duration": 66,
    "start_time": "2021-09-19T13:43:17.604Z"
   },
   {
    "duration": 4,
    "start_time": "2021-09-19T13:45:12.615Z"
   },
   {
    "duration": 3438,
    "start_time": "2021-09-19T13:45:12.970Z"
   },
   {
    "duration": 3,
    "start_time": "2021-09-19T14:05:41.894Z"
   },
   {
    "duration": 393,
    "start_time": "2021-09-19T14:05:42.533Z"
   },
   {
    "duration": 4,
    "start_time": "2021-09-19T14:08:53.113Z"
   },
   {
    "duration": 630,
    "start_time": "2021-09-19T14:08:53.523Z"
   },
   {
    "duration": 3,
    "start_time": "2021-09-19T14:09:44.485Z"
   },
   {
    "duration": 511,
    "start_time": "2021-09-19T14:09:45.130Z"
   },
   {
    "duration": 3,
    "start_time": "2021-09-19T14:10:19.025Z"
   },
   {
    "duration": 378,
    "start_time": "2021-09-19T14:10:19.601Z"
   },
   {
    "duration": 3,
    "start_time": "2021-09-19T14:10:40.673Z"
   },
   {
    "duration": 813,
    "start_time": "2021-09-19T14:10:40.983Z"
   },
   {
    "duration": 4,
    "start_time": "2021-09-19T14:11:23.549Z"
   },
   {
    "duration": 402,
    "start_time": "2021-09-19T14:11:23.821Z"
   },
   {
    "duration": 4,
    "start_time": "2021-09-19T14:11:46.858Z"
   },
   {
    "duration": 61,
    "start_time": "2021-09-19T14:11:47.206Z"
   },
   {
    "duration": 1254,
    "start_time": "2021-09-21T05:06:36.368Z"
   },
   {
    "duration": 50,
    "start_time": "2021-09-21T05:06:37.624Z"
   },
   {
    "duration": 4,
    "start_time": "2021-09-21T05:06:37.678Z"
   },
   {
    "duration": 270,
    "start_time": "2021-09-21T05:06:37.685Z"
   },
   {
    "duration": 270,
    "start_time": "2021-09-21T05:06:37.957Z"
   },
   {
    "duration": 81,
    "start_time": "2021-09-21T05:06:38.229Z"
   },
   {
    "duration": 159,
    "start_time": "2021-09-21T05:06:38.322Z"
   },
   {
    "duration": 12,
    "start_time": "2021-09-21T05:06:38.485Z"
   },
   {
    "duration": 432,
    "start_time": "2021-09-21T05:06:38.500Z"
   },
   {
    "duration": 15,
    "start_time": "2021-09-21T05:06:38.935Z"
   },
   {
    "duration": 390,
    "start_time": "2021-09-21T05:06:38.952Z"
   },
   {
    "duration": 14,
    "start_time": "2021-09-21T05:06:39.344Z"
   },
   {
    "duration": 9,
    "start_time": "2021-09-21T05:06:39.361Z"
   },
   {
    "duration": 77,
    "start_time": "2021-09-21T05:06:39.372Z"
   },
   {
    "duration": 14,
    "start_time": "2021-09-21T05:06:39.451Z"
   },
   {
    "duration": 12,
    "start_time": "2021-09-21T05:06:39.468Z"
   },
   {
    "duration": 95,
    "start_time": "2021-09-21T05:06:39.482Z"
   },
   {
    "duration": 3,
    "start_time": "2021-09-21T05:06:39.579Z"
   },
   {
    "duration": 87,
    "start_time": "2021-09-21T05:06:39.584Z"
   },
   {
    "duration": 3,
    "start_time": "2021-09-21T05:06:39.673Z"
   },
   {
    "duration": 79,
    "start_time": "2021-09-21T05:06:39.679Z"
   },
   {
    "duration": 4,
    "start_time": "2021-09-21T05:06:39.760Z"
   },
   {
    "duration": 78,
    "start_time": "2021-09-21T05:06:39.768Z"
   },
   {
    "duration": 973,
    "start_time": "2021-09-21T08:27:09.306Z"
   },
   {
    "duration": 38,
    "start_time": "2021-09-21T08:27:10.281Z"
   },
   {
    "duration": 4,
    "start_time": "2021-09-21T08:27:10.322Z"
   },
   {
    "duration": 58,
    "start_time": "2021-09-21T08:27:10.328Z"
   },
   {
    "duration": 158,
    "start_time": "2021-09-21T08:27:10.389Z"
   },
   {
    "duration": 87,
    "start_time": "2021-09-21T08:27:10.549Z"
   },
   {
    "duration": 149,
    "start_time": "2021-09-21T08:27:10.639Z"
   },
   {
    "duration": 12,
    "start_time": "2021-09-21T08:27:10.792Z"
   },
   {
    "duration": 249,
    "start_time": "2021-09-21T08:27:10.807Z"
   },
   {
    "duration": 17,
    "start_time": "2021-09-21T08:27:11.058Z"
   },
   {
    "duration": 221,
    "start_time": "2021-09-21T08:27:11.077Z"
   },
   {
    "duration": 16,
    "start_time": "2021-09-21T08:27:11.301Z"
   },
   {
    "duration": 7,
    "start_time": "2021-09-21T08:27:11.319Z"
   },
   {
    "duration": 24,
    "start_time": "2021-09-21T08:27:11.329Z"
   },
   {
    "duration": 15,
    "start_time": "2021-09-21T08:27:11.355Z"
   },
   {
    "duration": 16,
    "start_time": "2021-09-21T08:27:11.373Z"
   },
   {
    "duration": 45,
    "start_time": "2021-09-21T08:27:11.392Z"
   },
   {
    "duration": 3,
    "start_time": "2021-09-21T08:27:11.440Z"
   },
   {
    "duration": 45,
    "start_time": "2021-09-21T08:27:11.446Z"
   },
   {
    "duration": 5,
    "start_time": "2021-09-21T08:27:11.494Z"
   },
   {
    "duration": 33,
    "start_time": "2021-09-21T08:27:11.502Z"
   },
   {
    "duration": 3,
    "start_time": "2021-09-21T08:27:11.538Z"
   },
   {
    "duration": 35,
    "start_time": "2021-09-21T08:27:11.545Z"
   },
   {
    "duration": 4,
    "start_time": "2021-09-21T08:30:45.886Z"
   },
   {
    "duration": 21,
    "start_time": "2021-09-21T08:30:46.631Z"
   },
   {
    "duration": 3,
    "start_time": "2021-09-21T08:31:02.152Z"
   },
   {
    "duration": 22,
    "start_time": "2021-09-21T08:31:02.728Z"
   },
   {
    "duration": 4,
    "start_time": "2021-09-21T08:31:35.625Z"
   },
   {
    "duration": 24,
    "start_time": "2021-09-21T08:31:36.007Z"
   },
   {
    "duration": 3,
    "start_time": "2021-09-21T08:31:42.312Z"
   },
   {
    "duration": 25,
    "start_time": "2021-09-21T08:31:42.711Z"
   },
   {
    "duration": 4,
    "start_time": "2021-09-21T08:59:37.322Z"
   },
   {
    "duration": 450,
    "start_time": "2021-09-21T08:59:37.869Z"
   },
   {
    "duration": 4,
    "start_time": "2021-09-21T08:59:45.857Z"
   },
   {
    "duration": 16,
    "start_time": "2021-09-21T08:59:46.272Z"
   },
   {
    "duration": 4,
    "start_time": "2021-09-21T09:00:45.219Z"
   },
   {
    "duration": 17,
    "start_time": "2021-09-21T09:00:45.505Z"
   },
   {
    "duration": 3,
    "start_time": "2021-09-21T09:03:30.241Z"
   },
   {
    "duration": 41,
    "start_time": "2021-09-21T09:03:30.635Z"
   },
   {
    "duration": 4,
    "start_time": "2021-09-21T09:18:06.804Z"
   },
   {
    "duration": 299,
    "start_time": "2021-09-21T09:18:07.278Z"
   },
   {
    "duration": 3,
    "start_time": "2021-09-21T09:18:23.521Z"
   },
   {
    "duration": 39,
    "start_time": "2021-09-21T09:18:24.291Z"
   },
   {
    "duration": 3,
    "start_time": "2021-09-21T09:18:34.278Z"
   },
   {
    "duration": 36,
    "start_time": "2021-09-21T09:18:34.555Z"
   },
   {
    "duration": 4,
    "start_time": "2021-09-21T09:22:35.596Z"
   },
   {
    "duration": 1382,
    "start_time": "2021-09-21T09:22:36.054Z"
   },
   {
    "duration": 5,
    "start_time": "2021-09-21T09:22:55.540Z"
   },
   {
    "duration": 489,
    "start_time": "2021-09-21T09:22:55.953Z"
   },
   {
    "duration": 5,
    "start_time": "2021-09-21T09:23:25.271Z"
   },
   {
    "duration": 342,
    "start_time": "2021-09-21T09:23:25.580Z"
   },
   {
    "duration": 3,
    "start_time": "2021-09-21T09:23:44.489Z"
   },
   {
    "duration": 302,
    "start_time": "2021-09-21T09:23:45.074Z"
   },
   {
    "duration": 4,
    "start_time": "2021-09-21T09:24:10.880Z"
   },
   {
    "duration": 320,
    "start_time": "2021-09-21T09:24:11.289Z"
   },
   {
    "duration": 4,
    "start_time": "2021-09-21T09:24:37.301Z"
   },
   {
    "duration": 317,
    "start_time": "2021-09-21T09:24:37.518Z"
   },
   {
    "duration": 4,
    "start_time": "2021-09-21T09:24:59.215Z"
   },
   {
    "duration": 308,
    "start_time": "2021-09-21T09:25:00.083Z"
   },
   {
    "duration": 3,
    "start_time": "2021-09-21T09:25:17.742Z"
   },
   {
    "duration": 353,
    "start_time": "2021-09-21T09:25:18.002Z"
   },
   {
    "duration": 4,
    "start_time": "2021-09-21T09:27:21.508Z"
   },
   {
    "duration": 330,
    "start_time": "2021-09-21T09:27:21.951Z"
   },
   {
    "duration": 4,
    "start_time": "2021-09-21T09:28:00.385Z"
   },
   {
    "duration": 558,
    "start_time": "2021-09-21T09:28:00.711Z"
   },
   {
    "duration": 5,
    "start_time": "2021-09-21T09:28:17.248Z"
   },
   {
    "duration": 32,
    "start_time": "2021-09-21T09:28:17.492Z"
   },
   {
    "duration": 4,
    "start_time": "2021-09-21T09:28:54.585Z"
   },
   {
    "duration": 30,
    "start_time": "2021-09-21T09:28:54.932Z"
   },
   {
    "duration": 4,
    "start_time": "2021-09-21T09:29:03.629Z"
   },
   {
    "duration": 36,
    "start_time": "2021-09-21T09:29:03.975Z"
   },
   {
    "duration": 3,
    "start_time": "2021-09-21T09:29:17.143Z"
   },
   {
    "duration": 30,
    "start_time": "2021-09-21T09:29:17.497Z"
   },
   {
    "duration": 4,
    "start_time": "2021-09-21T09:29:37.476Z"
   },
   {
    "duration": 29,
    "start_time": "2021-09-21T09:29:37.725Z"
   },
   {
    "duration": 4,
    "start_time": "2021-09-21T09:29:51.954Z"
   },
   {
    "duration": 26,
    "start_time": "2021-09-21T09:29:52.280Z"
   },
   {
    "duration": 4,
    "start_time": "2021-09-21T09:41:28.019Z"
   },
   {
    "duration": 31,
    "start_time": "2021-09-21T09:41:28.247Z"
   },
   {
    "duration": 4,
    "start_time": "2021-09-21T09:42:58.732Z"
   },
   {
    "duration": 334,
    "start_time": "2021-09-21T09:43:01.986Z"
   },
   {
    "duration": 4,
    "start_time": "2021-09-21T09:43:34.588Z"
   },
   {
    "duration": 37,
    "start_time": "2021-09-21T09:43:38.388Z"
   },
   {
    "duration": 3,
    "start_time": "2021-09-21T09:43:59.244Z"
   },
   {
    "duration": 36,
    "start_time": "2021-09-21T09:43:59.722Z"
   },
   {
    "duration": 4,
    "start_time": "2021-09-21T09:45:54.400Z"
   },
   {
    "duration": 337,
    "start_time": "2021-09-21T09:45:54.908Z"
   },
   {
    "duration": 3,
    "start_time": "2021-09-21T09:46:07.374Z"
   },
   {
    "duration": 308,
    "start_time": "2021-09-21T09:46:07.640Z"
   },
   {
    "duration": 4,
    "start_time": "2021-09-21T09:49:40.597Z"
   },
   {
    "duration": 36,
    "start_time": "2021-09-21T09:49:42.016Z"
   },
   {
    "duration": 4,
    "start_time": "2021-09-21T09:49:54.790Z"
   },
   {
    "duration": 30,
    "start_time": "2021-09-21T09:49:56.552Z"
   },
   {
    "duration": 3,
    "start_time": "2021-09-21T09:50:23.657Z"
   },
   {
    "duration": 36,
    "start_time": "2021-09-21T09:50:23.962Z"
   },
   {
    "duration": 4,
    "start_time": "2021-09-21T09:51:04.832Z"
   },
   {
    "duration": 340,
    "start_time": "2021-09-21T09:51:05.777Z"
   },
   {
    "duration": 5,
    "start_time": "2021-09-21T09:51:09.043Z"
   },
   {
    "duration": 662,
    "start_time": "2021-09-21T09:51:09.329Z"
   },
   {
    "duration": 3,
    "start_time": "2021-09-21T09:51:16.221Z"
   },
   {
    "duration": 30,
    "start_time": "2021-09-21T09:51:16.585Z"
   },
   {
    "duration": 3,
    "start_time": "2021-09-21T09:52:04.656Z"
   },
   {
    "duration": 318,
    "start_time": "2021-09-21T09:52:04.907Z"
   },
   {
    "duration": 3,
    "start_time": "2021-09-21T09:52:48.584Z"
   },
   {
    "duration": 29,
    "start_time": "2021-09-21T09:52:51.074Z"
   },
   {
    "duration": 4,
    "start_time": "2021-09-21T09:55:31.805Z"
   },
   {
    "duration": 521,
    "start_time": "2021-09-21T09:55:34.350Z"
   },
   {
    "duration": 3,
    "start_time": "2021-09-21T10:36:33.648Z"
   },
   {
    "duration": 427,
    "start_time": "2021-09-21T10:36:33.911Z"
   },
   {
    "duration": 4,
    "start_time": "2021-09-21T10:36:44.729Z"
   },
   {
    "duration": 53,
    "start_time": "2021-09-21T10:36:44.735Z"
   },
   {
    "duration": 892,
    "start_time": "2021-09-21T20:33:48.395Z"
   },
   {
    "duration": 50,
    "start_time": "2021-09-21T20:33:49.289Z"
   },
   {
    "duration": 3,
    "start_time": "2021-09-21T20:33:49.341Z"
   },
   {
    "duration": 262,
    "start_time": "2021-09-21T20:33:49.346Z"
   },
   {
    "duration": 115,
    "start_time": "2021-09-21T20:33:49.610Z"
   },
   {
    "duration": 65,
    "start_time": "2021-09-21T20:33:49.726Z"
   },
   {
    "duration": 146,
    "start_time": "2021-09-21T20:33:49.792Z"
   },
   {
    "duration": 9,
    "start_time": "2021-09-21T20:33:49.942Z"
   },
   {
    "duration": 255,
    "start_time": "2021-09-21T20:33:49.953Z"
   },
   {
    "duration": 11,
    "start_time": "2021-09-21T20:33:50.210Z"
   },
   {
    "duration": 214,
    "start_time": "2021-09-21T20:33:50.223Z"
   },
   {
    "duration": 10,
    "start_time": "2021-09-21T20:33:50.438Z"
   },
   {
    "duration": 8,
    "start_time": "2021-09-21T20:33:50.450Z"
   },
   {
    "duration": 71,
    "start_time": "2021-09-21T20:33:50.460Z"
   },
   {
    "duration": 9,
    "start_time": "2021-09-21T20:33:50.533Z"
   },
   {
    "duration": 8,
    "start_time": "2021-09-21T20:33:50.544Z"
   },
   {
    "duration": 90,
    "start_time": "2021-09-21T20:33:50.554Z"
   },
   {
    "duration": 2,
    "start_time": "2021-09-21T20:33:50.646Z"
   },
   {
    "duration": 7,
    "start_time": "2021-09-21T20:33:50.650Z"
   },
   {
    "duration": 76,
    "start_time": "2021-09-21T20:33:50.658Z"
   },
   {
    "duration": 2,
    "start_time": "2021-09-21T20:33:50.736Z"
   },
   {
    "duration": 76,
    "start_time": "2021-09-21T20:33:50.740Z"
   },
   {
    "duration": 2,
    "start_time": "2021-09-21T20:33:50.819Z"
   },
   {
    "duration": 6,
    "start_time": "2021-09-21T20:33:50.823Z"
   },
   {
    "duration": 75,
    "start_time": "2021-09-21T20:33:50.830Z"
   },
   {
    "duration": 3,
    "start_time": "2021-09-21T20:34:00.318Z"
   },
   {
    "duration": 105,
    "start_time": "2021-09-21T20:34:00.977Z"
   },
   {
    "duration": 3,
    "start_time": "2021-09-21T20:45:36.294Z"
   },
   {
    "duration": 109,
    "start_time": "2021-09-21T20:45:36.713Z"
   },
   {
    "duration": 2,
    "start_time": "2021-09-21T20:47:49.650Z"
   },
   {
    "duration": 71,
    "start_time": "2021-09-21T20:47:52.068Z"
   },
   {
    "duration": 693,
    "start_time": "2021-09-21T20:49:16.833Z"
   },
   {
    "duration": 28,
    "start_time": "2021-09-21T20:49:17.528Z"
   },
   {
    "duration": 2,
    "start_time": "2021-09-21T20:49:17.560Z"
   },
   {
    "duration": 259,
    "start_time": "2021-09-21T20:49:17.564Z"
   },
   {
    "duration": 101,
    "start_time": "2021-09-21T20:49:17.825Z"
   },
   {
    "duration": 69,
    "start_time": "2021-09-21T20:49:17.928Z"
   },
   {
    "duration": 144,
    "start_time": "2021-09-21T20:49:18.000Z"
   },
   {
    "duration": 8,
    "start_time": "2021-09-21T20:49:18.146Z"
   },
   {
    "duration": 212,
    "start_time": "2021-09-21T20:49:18.156Z"
   },
   {
    "duration": 10,
    "start_time": "2021-09-21T20:49:18.370Z"
   },
   {
    "duration": 200,
    "start_time": "2021-09-21T20:49:18.382Z"
   },
   {
    "duration": 9,
    "start_time": "2021-09-21T20:49:18.584Z"
   },
   {
    "duration": 5,
    "start_time": "2021-09-21T20:49:18.594Z"
   },
   {
    "duration": 70,
    "start_time": "2021-09-21T20:49:18.600Z"
   },
   {
    "duration": 9,
    "start_time": "2021-09-21T20:49:18.672Z"
   },
   {
    "duration": 4,
    "start_time": "2021-09-21T20:49:18.683Z"
   },
   {
    "duration": 139,
    "start_time": "2021-09-21T20:49:18.689Z"
   },
   {
    "duration": 2,
    "start_time": "2021-09-21T20:49:18.830Z"
   },
   {
    "duration": 77,
    "start_time": "2021-09-21T20:49:18.834Z"
   },
   {
    "duration": 3,
    "start_time": "2021-09-21T20:49:18.913Z"
   },
   {
    "duration": 77,
    "start_time": "2021-09-21T20:49:18.918Z"
   },
   {
    "duration": 3,
    "start_time": "2021-09-21T20:49:18.999Z"
   },
   {
    "duration": 75,
    "start_time": "2021-09-21T20:49:19.004Z"
   },
   {
    "duration": 3,
    "start_time": "2021-09-22T11:27:06.896Z"
   },
   {
    "duration": 225,
    "start_time": "2021-09-22T11:27:07.363Z"
   },
   {
    "duration": 712,
    "start_time": "2021-09-22T11:27:12.096Z"
   },
   {
    "duration": 28,
    "start_time": "2021-09-22T11:27:12.809Z"
   },
   {
    "duration": 2,
    "start_time": "2021-09-22T11:27:12.839Z"
   },
   {
    "duration": 281,
    "start_time": "2021-09-22T11:27:12.843Z"
   },
   {
    "duration": 158,
    "start_time": "2021-09-22T11:27:13.126Z"
   },
   {
    "duration": 59,
    "start_time": "2021-09-22T11:27:13.286Z"
   },
   {
    "duration": 203,
    "start_time": "2021-09-22T11:27:13.347Z"
   },
   {
    "duration": 7,
    "start_time": "2021-09-22T11:27:13.552Z"
   },
   {
    "duration": 284,
    "start_time": "2021-09-22T11:27:13.562Z"
   },
   {
    "duration": 10,
    "start_time": "2021-09-22T11:27:13.848Z"
   },
   {
    "duration": 197,
    "start_time": "2021-09-22T11:27:13.859Z"
   },
   {
    "duration": 9,
    "start_time": "2021-09-22T11:27:14.058Z"
   },
   {
    "duration": 4,
    "start_time": "2021-09-22T11:27:14.069Z"
   },
   {
    "duration": 74,
    "start_time": "2021-09-22T11:27:14.074Z"
   },
   {
    "duration": 8,
    "start_time": "2021-09-22T11:27:14.149Z"
   },
   {
    "duration": 5,
    "start_time": "2021-09-22T11:27:14.159Z"
   },
   {
    "duration": 99,
    "start_time": "2021-09-22T11:27:14.165Z"
   },
   {
    "duration": 2,
    "start_time": "2021-09-22T11:27:14.265Z"
   },
   {
    "duration": 80,
    "start_time": "2021-09-22T11:27:14.269Z"
   },
   {
    "duration": 2,
    "start_time": "2021-09-22T11:27:14.350Z"
   },
   {
    "duration": 380,
    "start_time": "2021-09-22T11:27:14.354Z"
   },
   {
    "duration": 183,
    "start_time": "2021-09-22T11:27:14.553Z"
   },
   {
    "duration": 176,
    "start_time": "2021-09-22T11:27:14.561Z"
   },
   {
    "duration": 3,
    "start_time": "2021-09-22T11:27:26.183Z"
   },
   {
    "duration": 79,
    "start_time": "2021-09-22T11:27:26.418Z"
   },
   {
    "duration": 3,
    "start_time": "2021-09-22T11:27:46.550Z"
   },
   {
    "duration": 92,
    "start_time": "2021-09-22T11:27:46.768Z"
   },
   {
    "duration": 7,
    "start_time": "2021-09-22T11:33:45.665Z"
   },
   {
    "duration": 272,
    "start_time": "2021-09-22T11:33:46.518Z"
   },
   {
    "duration": 3,
    "start_time": "2021-09-22T11:34:11.019Z"
   },
   {
    "duration": 81,
    "start_time": "2021-09-22T11:34:11.157Z"
   },
   {
    "duration": 2,
    "start_time": "2021-09-22T11:34:40.662Z"
   },
   {
    "duration": 80,
    "start_time": "2021-09-22T11:34:41.050Z"
   },
   {
    "duration": 3,
    "start_time": "2021-09-22T11:37:51.281Z"
   },
   {
    "duration": 265,
    "start_time": "2021-09-22T11:37:51.653Z"
   },
   {
    "duration": 3,
    "start_time": "2021-09-22T11:37:54.970Z"
   },
   {
    "duration": 268,
    "start_time": "2021-09-22T11:37:55.519Z"
   },
   {
    "duration": 3,
    "start_time": "2021-09-22T11:38:25.625Z"
   },
   {
    "duration": 293,
    "start_time": "2021-09-22T11:38:25.931Z"
   },
   {
    "duration": 3,
    "start_time": "2021-09-22T11:38:30.240Z"
   },
   {
    "duration": 265,
    "start_time": "2021-09-22T11:38:30.857Z"
   },
   {
    "duration": 2,
    "start_time": "2021-09-22T11:38:44.218Z"
   },
   {
    "duration": 261,
    "start_time": "2021-09-22T11:38:44.565Z"
   },
   {
    "duration": 3,
    "start_time": "2021-09-22T11:38:51.564Z"
   },
   {
    "duration": 271,
    "start_time": "2021-09-22T11:38:52.114Z"
   },
   {
    "duration": 2,
    "start_time": "2021-09-22T11:40:05.889Z"
   },
   {
    "duration": 269,
    "start_time": "2021-09-22T11:40:06.281Z"
   },
   {
    "duration": 3,
    "start_time": "2021-09-22T11:40:53.473Z"
   },
   {
    "duration": 80,
    "start_time": "2021-09-22T11:40:54.724Z"
   },
   {
    "duration": 2,
    "start_time": "2021-09-22T11:42:44.845Z"
   },
   {
    "duration": 78,
    "start_time": "2021-09-22T11:42:45.635Z"
   },
   {
    "duration": 2,
    "start_time": "2021-09-22T11:42:58.094Z"
   },
   {
    "duration": 268,
    "start_time": "2021-09-22T11:42:58.554Z"
   },
   {
    "duration": 2,
    "start_time": "2021-09-22T11:48:39.544Z"
   },
   {
    "duration": 298,
    "start_time": "2021-09-22T11:48:39.781Z"
   },
   {
    "duration": 3,
    "start_time": "2021-09-22T11:48:46.657Z"
   },
   {
    "duration": 78,
    "start_time": "2021-09-22T11:48:47.131Z"
   },
   {
    "duration": 2,
    "start_time": "2021-09-22T11:49:14.258Z"
   },
   {
    "duration": 275,
    "start_time": "2021-09-22T11:49:14.498Z"
   },
   {
    "duration": 3,
    "start_time": "2021-09-22T11:49:22.828Z"
   },
   {
    "duration": 3,
    "start_time": "2021-09-22T11:49:25.338Z"
   },
   {
    "duration": 272,
    "start_time": "2021-09-22T11:49:25.707Z"
   },
   {
    "duration": 2,
    "start_time": "2021-09-22T11:49:33.054Z"
   },
   {
    "duration": 267,
    "start_time": "2021-09-22T11:49:33.380Z"
   },
   {
    "duration": 3,
    "start_time": "2021-09-22T11:50:07.726Z"
   },
   {
    "duration": 282,
    "start_time": "2021-09-22T11:50:08.117Z"
   },
   {
    "duration": 3,
    "start_time": "2021-09-22T11:50:16.774Z"
   },
   {
    "duration": 367,
    "start_time": "2021-09-22T11:50:16.994Z"
   },
   {
    "duration": 3,
    "start_time": "2021-09-22T11:51:10.030Z"
   },
   {
    "duration": 282,
    "start_time": "2021-09-22T11:51:10.669Z"
   },
   {
    "duration": 2,
    "start_time": "2021-09-22T11:51:27.178Z"
   },
   {
    "duration": 79,
    "start_time": "2021-09-22T11:51:27.366Z"
   },
   {
    "duration": 3,
    "start_time": "2021-09-22T11:52:31.841Z"
   },
   {
    "duration": 76,
    "start_time": "2021-09-22T11:52:32.209Z"
   },
   {
    "duration": 2,
    "start_time": "2021-09-22T11:52:44.889Z"
   },
   {
    "duration": 75,
    "start_time": "2021-09-22T11:52:45.105Z"
   },
   {
    "duration": 10,
    "start_time": "2021-09-22T11:54:05.346Z"
   },
   {
    "duration": 2,
    "start_time": "2021-09-22T11:54:53.004Z"
   },
   {
    "duration": 75,
    "start_time": "2021-09-22T11:54:55.539Z"
   },
   {
    "duration": 2,
    "start_time": "2021-09-22T11:57:44.058Z"
   },
   {
    "duration": 78,
    "start_time": "2021-09-22T11:57:44.480Z"
   },
   {
    "duration": 3,
    "start_time": "2021-09-22T11:58:01.979Z"
   },
   {
    "duration": 79,
    "start_time": "2021-09-22T11:58:02.201Z"
   },
   {
    "duration": 682,
    "start_time": "2021-09-22T12:42:54.151Z"
   },
   {
    "duration": 26,
    "start_time": "2021-09-22T12:42:54.834Z"
   },
   {
    "duration": 3,
    "start_time": "2021-09-22T12:42:54.862Z"
   },
   {
    "duration": 296,
    "start_time": "2021-09-22T12:42:54.866Z"
   },
   {
    "duration": 81,
    "start_time": "2021-09-22T12:42:55.164Z"
   },
   {
    "duration": 64,
    "start_time": "2021-09-22T12:42:55.247Z"
   },
   {
    "duration": 144,
    "start_time": "2021-09-22T12:42:55.312Z"
   },
   {
    "duration": 8,
    "start_time": "2021-09-22T12:42:55.457Z"
   },
   {
    "duration": 209,
    "start_time": "2021-09-22T12:42:55.468Z"
   },
   {
    "duration": 10,
    "start_time": "2021-09-22T12:42:55.680Z"
   },
   {
    "duration": 208,
    "start_time": "2021-09-22T12:42:55.691Z"
   },
   {
    "duration": 9,
    "start_time": "2021-09-22T12:42:55.900Z"
   },
   {
    "duration": 7,
    "start_time": "2021-09-22T12:42:55.911Z"
   },
   {
    "duration": 79,
    "start_time": "2021-09-22T12:42:55.920Z"
   },
   {
    "duration": 9,
    "start_time": "2021-09-22T12:42:56.000Z"
   },
   {
    "duration": 4,
    "start_time": "2021-09-22T12:42:56.011Z"
   },
   {
    "duration": 97,
    "start_time": "2021-09-22T12:42:56.017Z"
   },
   {
    "duration": 2,
    "start_time": "2021-09-22T12:42:56.116Z"
   },
   {
    "duration": 79,
    "start_time": "2021-09-22T12:42:56.120Z"
   },
   {
    "duration": 9,
    "start_time": "2021-09-22T12:42:56.201Z"
   },
   {
    "duration": 5,
    "start_time": "2021-09-22T12:42:56.211Z"
   },
   {
    "duration": 4,
    "start_time": "2021-09-22T12:42:56.217Z"
   },
   {
    "duration": 4,
    "start_time": "2021-09-22T12:42:56.223Z"
   },
   {
    "duration": 84,
    "start_time": "2021-09-22T12:42:56.228Z"
   },
   {
    "duration": 2,
    "start_time": "2021-09-22T12:42:56.313Z"
   },
   {
    "duration": 77,
    "start_time": "2021-09-22T12:42:56.317Z"
   },
   {
    "duration": 1482,
    "start_time": "2021-09-22T12:43:44.654Z"
   },
   {
    "duration": 24,
    "start_time": "2021-09-22T12:43:46.138Z"
   },
   {
    "duration": 2,
    "start_time": "2021-09-22T12:43:46.165Z"
   },
   {
    "duration": 256,
    "start_time": "2021-09-22T12:43:46.169Z"
   },
   {
    "duration": 82,
    "start_time": "2021-09-22T12:43:46.427Z"
   },
   {
    "duration": 64,
    "start_time": "2021-09-22T12:43:46.510Z"
   },
   {
    "duration": 178,
    "start_time": "2021-09-22T12:43:46.575Z"
   },
   {
    "duration": 9,
    "start_time": "2021-09-22T12:43:46.754Z"
   },
   {
    "duration": 228,
    "start_time": "2021-09-22T12:43:46.765Z"
   },
   {
    "duration": 10,
    "start_time": "2021-09-22T12:43:46.995Z"
   },
   {
    "duration": 188,
    "start_time": "2021-09-22T12:43:47.007Z"
   },
   {
    "duration": 10,
    "start_time": "2021-09-22T12:43:47.196Z"
   },
   {
    "duration": 6,
    "start_time": "2021-09-22T12:43:47.208Z"
   },
   {
    "duration": 70,
    "start_time": "2021-09-22T12:43:47.216Z"
   },
   {
    "duration": 8,
    "start_time": "2021-09-22T12:43:47.288Z"
   },
   {
    "duration": 6,
    "start_time": "2021-09-22T12:43:47.298Z"
   },
   {
    "duration": 94,
    "start_time": "2021-09-22T12:43:47.305Z"
   },
   {
    "duration": 2,
    "start_time": "2021-09-22T12:43:47.401Z"
   },
   {
    "duration": 79,
    "start_time": "2021-09-22T12:43:47.405Z"
   },
   {
    "duration": 8,
    "start_time": "2021-09-22T12:43:47.486Z"
   },
   {
    "duration": 5,
    "start_time": "2021-09-22T12:43:47.496Z"
   },
   {
    "duration": 10,
    "start_time": "2021-09-22T12:43:47.502Z"
   },
   {
    "duration": 75,
    "start_time": "2021-09-22T12:43:47.514Z"
   },
   {
    "duration": 2,
    "start_time": "2021-09-22T12:43:47.590Z"
   },
   {
    "duration": 71,
    "start_time": "2021-09-22T12:43:47.594Z"
   },
   {
    "duration": 739,
    "start_time": "2021-09-22T12:46:24.391Z"
   },
   {
    "duration": 26,
    "start_time": "2021-09-22T12:46:25.132Z"
   },
   {
    "duration": 3,
    "start_time": "2021-09-22T12:46:25.159Z"
   },
   {
    "duration": 274,
    "start_time": "2021-09-22T12:46:25.164Z"
   },
   {
    "duration": 77,
    "start_time": "2021-09-22T12:46:25.439Z"
   },
   {
    "duration": 70,
    "start_time": "2021-09-22T12:46:25.517Z"
   },
   {
    "duration": 161,
    "start_time": "2021-09-22T12:46:25.589Z"
   },
   {
    "duration": 10,
    "start_time": "2021-09-22T12:46:25.753Z"
   },
   {
    "duration": 195,
    "start_time": "2021-09-22T12:46:25.766Z"
   },
   {
    "duration": 12,
    "start_time": "2021-09-22T12:46:25.964Z"
   },
   {
    "duration": 183,
    "start_time": "2021-09-22T12:46:25.977Z"
   },
   {
    "duration": 11,
    "start_time": "2021-09-22T12:46:26.162Z"
   },
   {
    "duration": 7,
    "start_time": "2021-09-22T12:46:26.175Z"
   },
   {
    "duration": 73,
    "start_time": "2021-09-22T12:46:26.184Z"
   },
   {
    "duration": 10,
    "start_time": "2021-09-22T12:46:26.259Z"
   },
   {
    "duration": 4,
    "start_time": "2021-09-22T12:46:26.271Z"
   },
   {
    "duration": 95,
    "start_time": "2021-09-22T12:46:26.277Z"
   },
   {
    "duration": 2,
    "start_time": "2021-09-22T12:46:26.374Z"
   },
   {
    "duration": 82,
    "start_time": "2021-09-22T12:46:26.378Z"
   },
   {
    "duration": 3,
    "start_time": "2021-09-22T12:46:26.462Z"
   },
   {
    "duration": 79,
    "start_time": "2021-09-22T12:46:26.467Z"
   },
   {
    "duration": 3,
    "start_time": "2021-09-22T12:46:26.548Z"
   },
   {
    "duration": 75,
    "start_time": "2021-09-22T12:46:26.554Z"
   },
   {
    "duration": 1163,
    "start_time": "2021-10-07T19:03:32.741Z"
   },
   {
    "duration": 37,
    "start_time": "2021-10-07T19:03:33.907Z"
   },
   {
    "duration": 4,
    "start_time": "2021-10-07T19:03:33.947Z"
   },
   {
    "duration": 208,
    "start_time": "2021-10-07T19:03:33.962Z"
   },
   {
    "duration": 408,
    "start_time": "2021-10-07T19:03:34.173Z"
   },
   {
    "duration": 77,
    "start_time": "2021-10-07T19:03:34.584Z"
   },
   {
    "duration": 163,
    "start_time": "2021-10-07T19:03:34.663Z"
   },
   {
    "duration": 12,
    "start_time": "2021-10-07T19:03:34.829Z"
   },
   {
    "duration": 229,
    "start_time": "2021-10-07T19:03:34.846Z"
   },
   {
    "duration": 17,
    "start_time": "2021-10-07T19:03:35.078Z"
   },
   {
    "duration": 209,
    "start_time": "2021-10-07T19:03:35.098Z"
   },
   {
    "duration": 15,
    "start_time": "2021-10-07T19:03:35.311Z"
   },
   {
    "duration": 5,
    "start_time": "2021-10-07T19:03:35.329Z"
   },
   {
    "duration": 68,
    "start_time": "2021-10-07T19:03:35.336Z"
   },
   {
    "duration": 14,
    "start_time": "2021-10-07T19:03:35.406Z"
   },
   {
    "duration": 7,
    "start_time": "2021-10-07T19:03:35.422Z"
   },
   {
    "duration": 89,
    "start_time": "2021-10-07T19:03:35.431Z"
   },
   {
    "duration": 3,
    "start_time": "2021-10-07T19:03:35.523Z"
   },
   {
    "duration": 72,
    "start_time": "2021-10-07T19:03:35.528Z"
   },
   {
    "duration": 3,
    "start_time": "2021-10-07T19:03:35.602Z"
   },
   {
    "duration": 66,
    "start_time": "2021-10-07T19:03:35.607Z"
   },
   {
    "duration": 3,
    "start_time": "2021-10-07T19:03:35.676Z"
   },
   {
    "duration": 62,
    "start_time": "2021-10-07T19:03:35.681Z"
   }
  ],
  "kernelspec": {
   "display_name": "Python 3",
   "language": "python",
   "name": "python3"
  },
  "language_info": {
   "codemirror_mode": {
    "name": "ipython",
    "version": 3
   },
   "file_extension": ".py",
   "mimetype": "text/x-python",
   "name": "python",
   "nbconvert_exporter": "python",
   "pygments_lexer": "ipython3",
   "version": "3.7.8"
  },
  "toc": {
   "base_numbering": 1,
   "nav_menu": {},
   "number_sections": true,
   "sideBar": true,
   "skip_h1_title": true,
   "title_cell": "Table of Contents",
   "title_sidebar": "Contents",
   "toc_cell": false,
   "toc_position": {},
   "toc_section_display": true,
   "toc_window_display": false
  }
 },
 "nbformat": 4,
 "nbformat_minor": 2
}
